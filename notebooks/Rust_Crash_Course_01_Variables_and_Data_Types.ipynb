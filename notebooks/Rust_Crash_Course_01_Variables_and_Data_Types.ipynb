{
 "cells": [
  {
   "cell_type": "markdown",
   "metadata": {},
   "source": [
    "# Rust Crash Course - 01 - Variables and Data Types\n",
    "\n",
    "In order to process data correctly and efficiently, Rust needs to know the data type of a variable.\n",
    "\n",
    "In the following, variables and common data types of the Rust programming language are explained.\n",
    "\n",
    "The contents represent a brief and compact introduction to the topic, inspired by the [Rust Book](https://doc.rust-lang.org/book/), the [Rust Reference](https://doc.rust-lang.org/reference/), and [Rust By Example](https://doc.rust-lang.org/rust-by-example/)."
   ]
  },
  {
   "cell_type": "markdown",
   "metadata": {},
   "source": [
    "## Variables and Mutability\n",
    "\n",
    "By default, variables are immutable in Rust, i.e. once a value is bound to a name, it cannot be changed.\n",
    "\n",
    "Values are bound to names by the keyword ``let``, while adding ``mut`` makes the given variable mutable.\n",
    "The advantage of this approach is that, if someone accidently alters the value of an immutable variable in the code, the compiler will output an error.\n",
    "\n",
    "If there is no specific data type given, as in the following simple example, Rust automatically determines the data type of the variable.\n",
    "\n",
    "Also note that idiomatic Rust uses ``snake_case`` in variable names."
   ]
  },
  {
   "cell_type": "code",
   "execution_count": null,
   "metadata": {},
   "outputs": [],
   "source": [
    "let x = 1;\n",
    "x = 5;                    // will lead to a compiler error\n",
    "\n",
    "let mut y = 2;\n",
    "y = 17;                   // perfectly fine, beause y is mutable\n",
    "\n",
    "let snake_case_example_number = 7;\n",
    "\n",
    "// by the way: comments are always denoted by two slashes at the beginning\n",
    "\n",
    "println!(\"y = {}\", y);    // the println!() macro enables formatted output"
   ]
  },
  {
   "cell_type": "markdown",
   "metadata": {},
   "source": [
    "However, it is possible to *shadow* a variable by using the ``let`` keyword again and binding it to a new value."
   ]
  },
  {
   "cell_type": "code",
   "execution_count": null,
   "metadata": {},
   "outputs": [],
   "source": [
    "let z = 123;\n",
    "println!(\"z = {} (original)\", z);\n",
    "\n",
    "{\n",
    "    let z = 456;    // z (and bound value) are \"shadowed\" with new binding\n",
    "    println!(\"z = {} (in-block shadowing)\", z);\n",
    "}\n",
    "\n",
    "println!(\"z = {} (after in-block shadowing)\", z);\n",
    "\n",
    "let z = 789;    // original z (and bound value) are \"shadowed\" with new binding\n",
    "println!(\"z = {} (same-level shadowing)\", z);"
   ]
  },
  {
   "cell_type": "markdown",
   "metadata": {},
   "source": [
    "Using ``const``, you can declare constant values that may never be changed and may not depend on runtime computations. Further, it is mandatory to add the data type of the constant value. At compilation time, these constants will be inlined, wherever possible.\n",
    "\n",
    "In Rust, constants are denoted in ``SCREAMING_SNAKE_CASE``."
   ]
  },
  {
   "cell_type": "code",
   "execution_count": null,
   "metadata": {},
   "outputs": [],
   "source": [
    "const CPU_FREQ: u32 = 16_000_000;    // underscores can be used to improve readbility of numbers\n",
    "                                     // u32 denotes an unsigned integer type with 32 bits"
   ]
  },
  {
   "cell_type": "markdown",
   "metadata": {},
   "source": [
    "In Rust, global variables are called *static variables*. The corresponding keyword ``static`` is very similar to ``const``. However, values introduced with ``static`` are not inlined upon compilation but can be accessed at one specific location in memory."
   ]
  },
  {
   "cell_type": "code",
   "execution_count": null,
   "metadata": {},
   "outputs": [],
   "source": [
    "static N_BYTES_MAX: u32 = 4096;"
   ]
  },
  {
   "cell_type": "markdown",
   "metadata": {},
   "source": [
    "## Scalar Data Types\n",
    "\n",
    "Scalar data types describe data that represents a single value. Rust has four scalar data types:\n",
    "- integers\n",
    "- floating-point numbers\n",
    "- booleans\n",
    "- characters\n",
    "\n",
    "**Note:** *Using ``std::mem::size_of`` and ``std::mem::size_of_val``, you can check the memory footprint of types and variables, respectively. For more information, see https://doc.rust-lang.org/std/mem/index.html.*"
   ]
  },
  {
   "cell_type": "markdown",
   "metadata": {},
   "source": [
    "### Integers\n",
    "\n",
    "Integers can be signed (``i8``, ``i16``, ``i32``, ``i64``, ``i128``) or unsigned (``u8``, ``u16``, ``u32``, ``u64``, ``u128``). The data types annotations contain the bit length of the specific data type.\n",
    "\n",
    "There are two further types, ``isize`` and ``usize``, which depend on the CPU architecture the program runs on."
   ]
  },
  {
   "cell_type": "code",
   "execution_count": null,
   "metadata": {},
   "outputs": [],
   "source": [
    "let int_1: i8 = 42;\n",
    "let int_2: i32 = -768;\n",
    "let int_3: i128 = 123 * -456;\n",
    "let int_4: u8 = 42;\n",
    "let int_5: u32 = 2018;\n",
    "let int_6: u128 = 2048 * 2048;\n",
    "let int_7: isize = 1 - 129;\n",
    "let int_8: usize = 127 + 1;\n",
    "\n",
    "println!(\"Type <i8> uses {} byte(s)!\", std::mem::size_of::<i8>());\n",
    "println!(\"Type <u16> uses {} byte(s)!\", std::mem::size_of::<u16>());\n",
    "println!(\"Type <i32> uses {} byte(s)!\", std::mem::size_of::<i32>());\n",
    "println!(\"Type <u64> uses {} byte(s)!\", std::mem::size_of::<u64>());\n",
    "\n",
    "println!(\"int_1 = {} and uses {} byte(s)!\", int_1, std::mem::size_of_val(&int_1));\n",
    "println!(\"int_2 = {} and uses {} byte(s)!\", int_2, std::mem::size_of_val(&int_2));\n",
    "println!(\"int_3 = {} and uses {} byte(s)!\", int_3, std::mem::size_of_val(&int_3));\n",
    "println!(\"int_4 = {} and uses {} byte(s)!\", int_4, std::mem::size_of_val(&int_4));\n",
    "println!(\"int_5 = {} and uses {} byte(s)!\", int_5, std::mem::size_of_val(&int_5));\n",
    "println!(\"int_6 = {} and uses {} byte(s)!\", int_6, std::mem::size_of_val(&int_6));\n",
    "println!(\"int_7 = {} and uses {} byte(s)!\", int_7, std::mem::size_of_val(&int_7));\n",
    "println!(\"int_8 = {} and uses {} byte(s)!\", int_8, std::mem::size_of_val(&int_8));"
   ]
  },
  {
   "cell_type": "markdown",
   "metadata": {},
   "source": [
    "### Floats\n",
    "\n",
    "For floating point numbers, Rust offers two data types, one for single-precision (``f32``) and one for double-precision (``f64``) calculations."
   ]
  },
  {
   "cell_type": "code",
   "execution_count": null,
   "metadata": {},
   "outputs": [],
   "source": [
    "let pi_singleprec: f32 = 3.14159265;\n",
    "let pi_doubleprec: f64 = 3.141592653589793;\n",
    "\n",
    "println!(\"Type <f32> uses {} byte(s)!\", std::mem::size_of::<f32>());\n",
    "println!(\"Type <f64> uses {} byte(s)!\", std::mem::size_of::<f64>());\n",
    "\n",
    "println!(\"pi_singleprec = {} and uses {} byte(s)!\", pi_singleprec, std::mem::size_of_val(&pi_singleprec));\n",
    "println!(\"pi_doubleprec = {} and uses {} byte(s)!\", pi_doubleprec, std::mem::size_of_val(&pi_doubleprec));"
   ]
  },
  {
   "cell_type": "markdown",
   "metadata": {},
   "source": [
    "### Booleans\n",
    "\n",
    "In Rust, boolean variables are introduced using the data type ``bool`` and can only take two possible values: ``true`` or ``false``."
   ]
  },
  {
   "cell_type": "code",
   "execution_count": null,
   "metadata": {},
   "outputs": [],
   "source": [
    "let bool_1 = true;\n",
    "let bool_2: bool = false;\n",
    "\n",
    "println!(\"Type <bool> uses {} byte(s)!\", std::mem::size_of::<bool>());\n",
    "\n",
    "println!(\"bool_1 = {} and uses {} byte(s)!\", bool_1, std::mem::size_of_val(&bool_1));\n",
    "println!(\"bool_2 = {} and uses {} byte(s)!\", bool_2, std::mem::size_of_val(&bool_2));"
   ]
  },
  {
   "cell_type": "markdown",
   "metadata": {},
   "source": [
    "### Characters\n",
    "\n",
    "Characters in Rust are introduced by the keyword ``char`` and do not contain a single byte (as e.g. in C), but a 4-byte ''Unicode Scalar Value''. Also note that characters have to be written in single quotes, while strings in Rust use double quotes.\n",
    "\n",
    "Since characters in Rust are different, e.g. compared to C, you might want to have a closer look here: https://doc.rust-lang.org/std/primitive.char.html"
   ]
  },
  {
   "cell_type": "code",
   "execution_count": null,
   "metadata": {},
   "outputs": [],
   "source": [
    "let char_1 = 'h';\n",
    "let char_2: char = '🐷';\n",
    "let char_3: char = '\\u{1F601}';\n",
    "\n",
    "println!(\"Type <char> uses {} byte(s)!\", std::mem::size_of::<char>());\n",
    "\n",
    "println!(\"char_1 = {} and uses {} byte(s)!\", char_1, std::mem::size_of_val(&char_1));\n",
    "println!(\"char_2 = {} and uses {} byte(s)!\", char_2, std::mem::size_of_val(&char_2));\n",
    "println!(\"char_3 = {} and uses {} byte(s)!\", char_3, std::mem::size_of_val(&char_3));"
   ]
  },
  {
   "cell_type": "markdown",
   "metadata": {},
   "source": [
    "## Compound Data Types\n",
    "\n",
    "And there are two primitive compound data types in Rust:\n",
    "- tuples\n",
    "- arrays"
   ]
  },
  {
   "cell_type": "markdown",
   "metadata": {},
   "source": [
    "### Tuples\n",
    "\n",
    "Tuples can group several different data types into one compound type that can be used to annotate a variable. However, tuple variables cannot grow or shrink in size once they have been created."
   ]
  },
  {
   "cell_type": "code",
   "execution_count": null,
   "metadata": {},
   "outputs": [],
   "source": [
    "let mixed_tuple: (char, f32, u8) = ('a', 1.23, 42);    // tuple variable consisting of a char, a float, and a byte\n",
    "\n",
    "println!(\"mixed_type = {:?} and uses {} byte(s)!\", mixed_tuple, std::mem::size_of_val(&mixed_tuple));\n",
    "// {:?} enables \"debug printing\" of compound types\n",
    "\n",
    "let point = (1,2);    // if no data types are given for tuples, Rust automatically determines them\n",
    "let (x, y) = point;\n",
    "\n",
    "println!(\"point.0 = {} = {} = x\", point.0, x);  // parts of tuple can be accessed by their index number\n",
    "println!(\"point.1 = {} = {} = y\", point.1, y);\n",
    "\n",
    "let mut mutable_point: (u8, u8) = (11,7);\n",
    "\n",
    "println!(\"mutable_point.0 = {}\", mutable_point.0);\n",
    "println!(\"mutable_point.1 = {}\", mutable_point.1);\n",
    "\n",
    "mutable_point.0 = 5;\n",
    "mutable_point.1 = point.0;\n",
    "\n",
    "println!(\"mutable_point = {:?}\", mutable_point);"
   ]
  },
  {
   "cell_type": "markdown",
   "metadata": {},
   "source": [
    "### Emtpy Tuple\n",
    "\n",
    "The empty tuple ``()`` can be used to express that there is no data, e.g. as a return value of a function."
   ]
  },
  {
   "cell_type": "code",
   "execution_count": null,
   "metadata": {},
   "outputs": [],
   "source": [
    "let no_data = ();"
   ]
  },
  {
   "cell_type": "markdown",
   "metadata": {},
   "source": [
    "### Arrays\n",
    "\n",
    "Array variables in Rust can also contain several elements. However, each element has the same data type. Like tuples, arrays are also fixed-length."
   ]
  },
  {
   "cell_type": "code",
   "execution_count": null,
   "metadata": {},
   "outputs": [],
   "source": [
    "let primes: [u8; 5] = [1, 2, 3, 5, 7];\n",
    "let time_series: [f32; 8] = [0.73, 0.81, 0.88, 0.92, 0.72, 0.83, 0.85, 0.90];\n",
    "\n",
    "println!(\"primes[0] = {} and the array uses {} byte(s)!\", primes[0], std::mem::size_of_val(&primes));\n",
    "println!(\"times_series[4] = {} and the array uses {} byte(s)!\", time_series[4], std::mem::size_of_val(&time_series));"
   ]
  },
  {
   "cell_type": "markdown",
   "metadata": {},
   "source": [
    "## Custom Data Types\n",
    "\n",
    "There are two common ways to create custom data types in Rust:\n",
    "- structs\n",
    "- enums\n",
    "\n",
    "Further, both ways offer useful variations, e.g. tuple structs and enums with values, and applications, e.g. an Option enum, that will be explained in the following."
   ]
  },
  {
   "cell_type": "markdown",
   "metadata": {},
   "source": [
    "### Structs\n",
    "\n",
    "Structs like tuples can contain different data types. They can be introduced by the keyword ``struct`` and each part of a struct has to have a specific name, so it can be defined and accessed in a more convenient way.\n",
    "\n",
    "By the way: The default memory layout of structs in Rust is different to the one used in the C language. If you would like to dig deeper into this topic, take a look at this: https://doc.rust-lang.org/reference/type-layout.html"
   ]
  },
  {
   "cell_type": "code",
   "execution_count": null,
   "metadata": {},
   "outputs": [],
   "source": [
    "struct Point {\n",
    "    x: i16,\n",
    "    y: i16,\n",
    "    mark: char,\n",
    "    transparency: u8,\n",
    "}\n",
    "\n",
    "let p = Point { x: 1, y: 7, mark: 'P', transparency: 100 };\n",
    "\n",
    "println!(\"p.x = {}\", p.x);\n",
    "println!(\"p.y = {}\", p.y);\n",
    "println!(\"p uses {} byte(s)!\", std::mem::size_of::<Point>());"
   ]
  },
  {
   "cell_type": "markdown",
   "metadata": {},
   "source": [
    "### Tuple Structs\n",
    "\n",
    "If element names are not required, but a distinct data type name is desired in order to detect accidental misuse, tuple structs can be useful."
   ]
  },
  {
   "cell_type": "code",
   "execution_count": null,
   "metadata": {},
   "outputs": [],
   "source": [
    "struct Point (i16, i16);\n",
    "struct Cell (i16, i16);\n",
    "\n",
    "let p = Point(1, 2);\n",
    "println!(\"p.0 = {}\", p.0);\n",
    "println!(\"p.1 = {}\", p.1);\n",
    "\n",
    "let mut c = Cell(7,3);\n",
    "c = p;                        // leads to a compile error"
   ]
  },
  {
   "cell_type": "markdown",
   "metadata": {},
   "source": [
    "### Enums\n",
    "\n",
    "If a data type can only take a few specific values, we can enumerate them. The keyword ``enum`` allows us to specify a data type with fixed possible values."
   ]
  },
  {
   "cell_type": "code",
   "execution_count": null,
   "metadata": {},
   "outputs": [],
   "source": [
    "enum Direction {\n",
    "    Right,\n",
    "    Left,\n",
    "    Up,\n",
    "    Down,\n",
    "}\n",
    "\n",
    "let direction = Direction::Left;"
   ]
  },
  {
   "cell_type": "markdown",
   "metadata": {},
   "source": [
    "### Enums with Values\n",
    "\n",
    "Sometimes, it might also be useful to add a value, e.g. a number, to an enum value."
   ]
  },
  {
   "cell_type": "code",
   "execution_count": null,
   "metadata": {},
   "outputs": [],
   "source": [
    "enum Movement {\n",
    "    Right(i32),\n",
    "    Left(i32),\n",
    "}\n",
    "\n",
    "let movement = Movement::Right(12);\n",
    "\n",
    "// match constructs allow to extract enum values (more on match expressions later)\n",
    "match movement {\n",
    "    Movement::Right(steps) => {\n",
    "        println!(\"Movement to the right, {} steps\", steps);\n",
    "    }\n",
    "    Movement::Left(value) => {\n",
    "        println!(\"Movement to the left, {} steps\", value);\n",
    "    }\n",
    "};"
   ]
  },
  {
   "cell_type": "markdown",
   "metadata": {},
   "source": [
    "### The ``Option`` Enum\n",
    "\n",
    "The ``Option`` enum is a special enum for the common case that a value can be \"something\" or \"nothing\". Since there is no ``null`` value in Rust, this is the idiomatic way to express a value or the absence of this value, e.g. in return values of functions. In the case of ``Some()``, one can call ``unwrap()`` to extract the returned value. Calling it on ``None`` will make your application panic!\n",
    "\n",
    "The standard library defines it as follows:\n",
    "```rust\n",
    "enum Option<T> {\n",
    "    Some(T),\n",
    "    None,\n",
    "}\n",
    "```"
   ]
  },
  {
   "cell_type": "code",
   "execution_count": null,
   "metadata": {},
   "outputs": [],
   "source": [
    "let result_int = Some(42);\n",
    "let absent_value: Option<u8> = None;\n",
    "\n",
    "println!(\"result_int            = {:?}\", result_int);\n",
    "println!(\"absent_value          = {:?}\", absent_value);\n",
    "\n",
    "println!(\"result_int.unwrap()   = {}\", result_int.unwrap());\n",
    "//println!(\"absent_value.unwrap() = {}\", absent_value.unwrap());    // unwrap() on None --> panic!"
   ]
  },
  {
   "cell_type": "markdown",
   "metadata": {},
   "source": [
    "### The ``Result`` Enum\n",
    "\n",
    "The ``Result`` enum is another special enum for the common case that a function either returns a valid result or an error. This is a common way of basic error handling in Rust. In the success case, one might want to call ``unwrap()`` to recover the value inside ``Ok()``. However, calling it on ``Err()`` will make your application panic!\n",
    "\n",
    "The standard library defines it as follows:\n",
    "```rust\n",
    "enum Result<T, E> {\n",
    "    Ok(T),\n",
    "    Err(E),\n",
    "}\n",
    "```"
   ]
  },
  {
   "cell_type": "code",
   "execution_count": null,
   "metadata": {},
   "outputs": [],
   "source": [
    "let int_str = \"10\";                                   // correct input\n",
    "let int_number = int_str.parse::<i32>();              // operation returns a value\n",
    "\n",
    "let int_str_fail = \"abc\";                             // invalid input\n",
    "let int_number_fail = int_str_fail.parse::<i32>();    // operation returns an error\n",
    "\n",
    "println!(\"int_number               = {:?}\", int_number);\n",
    "println!(\"int_number_fail          = {:?}\", int_number_fail);\n",
    "\n",
    "println!(\"int_number.unwrap()      = {}\", int_number.unwrap());\n",
    "//println!(\"int_number_fail.unwrap() = {}\", int_number_fail.unwrap());    // unwrap() on error --> panic!"
   ]
  },
  {
   "cell_type": "code",
   "execution_count": null,
   "metadata": {},
   "outputs": [],
   "source": []
  }
 ],
 "metadata": {
  "kernelspec": {
   "display_name": "Rust",
   "language": "rust",
   "name": "rust"
  },
  "language_info": {
   "codemirror_mode": "rust",
   "file_extension": ".rs",
   "mimetype": "text/rust",
   "name": "Rust",
   "pygment_lexer": "rust",
   "version": ""
  }
 },
 "nbformat": 4,
 "nbformat_minor": 2
}
