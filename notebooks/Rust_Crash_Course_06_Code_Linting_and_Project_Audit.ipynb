{
 "cells": [
  {
   "cell_type": "markdown",
   "metadata": {},
   "source": [
    "# Rust Crash Course - 06 - Code Linting and Project Audit\n",
    "\n",
    "Linting and audit tools analyze code and project properties in order to provide recommendations for higher code quality, performance and security.\n",
    "\n",
    "In the following, tools are presented that help Rust developers optimize their code.\n",
    "\n",
    "The contents represent a brief and compact introduction to the topic, inspired by the [Rust Book](https://doc.rust-lang.org/book/), the [Cargo Book](https://doc.rust-lang.org/cargo/), the [Rust Reference](https://doc.rust-lang.org/reference/), and [Rust By Example](https://doc.rust-lang.org/rust-by-example/)."
   ]
  },
  {
   "cell_type": "markdown",
   "metadata": {},
   "source": [
    "## Preparation\n",
    "\n",
    "For shell command calls, the Python module ``subprocess`` is used (https://docs.python.org/3/library/subprocess.html).\n",
    "\n",
    "Run the following code block to provide the function ``execute_command()`` within this notebook."
   ]
  },
  {
   "cell_type": "code",
   "execution_count": null,
   "metadata": {},
   "outputs": [],
   "source": [
    "import subprocess\n",
    "\n",
    "def execute_command(cmd):\n",
    "    run = subprocess.run(cmd, universal_newlines=True, shell=True, stdout=subprocess.PIPE, stderr=subprocess.STDOUT)\n",
    "    print(run.stdout)"
   ]
  },
  {
   "cell_type": "markdown",
   "metadata": {},
   "source": [
    "Of course, all shell commands given in this tutorial can also be executed directly on a Linux console."
   ]
  },
  {
   "cell_type": "markdown",
   "metadata": {},
   "source": [
    "## Linting Rust Code\n",
    "\n",
    "Linters statically analyze source code for several issues such as unnecessary code, bad performing code, or messy coding style. Every time a Rust project is compiled, the rust compiler uses ``cargo check`` by default to perform basic checks.\n",
    "\n",
    "The linter in ``rustc`` implements five lint levels. Each lint has a default level and the compiler itself has a default warning level. The five lint levels are the following:\n",
    "\n",
    "1. ``allow``        (produces no output)\n",
    "\n",
    "\n",
    "2. ``warn``         (produces a warning)\n",
    "\n",
    "\n",
    "3. ``force-warn``   (produces a warning)\n",
    "\n",
    "\n",
    "4. ``deny``         (produces an error)\n",
    "\n",
    "\n",
    "5. ``forbid``       (produces an error)\n",
    "\n",
    "\n",
    "Lints with the level ``allow``, ``warn``, and ``deny`` can be overridden with a macro command (just like ``#![deny(missing_docs)]``).\n",
    "The lints ``force-warn`` and ``forbid`` behave like ``warn`` and ``deny``, respectively, but they cannot be overridden.\n",
    "\n",
    "In the following, an advanced linting tool is presented that helps increasing Rust source code quality even more."
   ]
  },
  {
   "cell_type": "markdown",
   "metadata": {},
   "source": [
    "### Rust Linter ``clippy``\n",
    "\n",
    "``clippy`` is a superset to ``cargo check`` because it runs ``cargo check`` itself. Additionally, ``clippy`` has certain recommendations about performance optimizations, idiomatic rust and platform independence.\n",
    "\n",
    "For all possible ``clippy`` lints see:\n",
    "\n",
    "* https://rust-lang.github.io/rust-clippy/master/\n",
    "\n",
    "The following commands apply ``clippy``-based linting to a Rust project:\n",
    "\n",
    "* `cargo clippy` - runs the clippy linter for the project\n",
    "\n",
    "\n",
    "* `cargo clippy --tests` - runs clippy for the tests of the project\n",
    "\n",
    "\n",
    "* `cargo clippy --examples` - runs clippy for the examples of the project"
   ]
  },
  {
   "cell_type": "markdown",
   "metadata": {},
   "source": [
    "### Visual Studio Code Integration\n",
    "\n",
    "In the default configuration, VS Code with its extension ``rust-analyzer`` automatically lints the current file after saving it.\n",
    "\n",
    "Problematic code gets underlined, if the linter issued a corresponding warning or error.\n",
    "\n",
    "The lint details can be seen in a popup when hovering over it.\n",
    "\n",
    "One can even jump from one problem to the next by pressing ``F8``."
   ]
  },
  {
   "cell_type": "markdown",
   "metadata": {},
   "source": [
    "### Exercise 6.1\n",
    "\n",
    "Use the following cell to open the ``example-math-tools`` project in VS Code.\n",
    "\n",
    "Analyze the warnings the Rust compiler and ``clippy`` are showing.\n",
    "\n",
    "Find suitable fixes that lead to a higher quality code."
   ]
  },
  {
   "cell_type": "code",
   "execution_count": null,
   "metadata": {},
   "outputs": [],
   "source": [
    "execute_command('code ../example-math-tools')"
   ]
  },
  {
   "cell_type": "markdown",
   "metadata": {},
   "source": [
    "Which warnings did the Rust compiler and/or ``clippy`` find and how could they be fixed?\n",
    "\n",
    "* *TODO*\n"
   ]
  },
  {
   "cell_type": "markdown",
   "metadata": {},
   "source": [
    "## Rust Project Audit\n",
    "\n",
    "Keeping track of security issues across all project dependencies is a tidy and sometimes complex task.\n",
    "\n",
    "Fortunately, the Rust toolchain provides a tool to support developers facing this challenge."
   ]
  },
  {
   "cell_type": "markdown",
   "metadata": {},
   "source": [
    "### Security Auditing with ``cargo audit``\n",
    "\n",
    "``cargo audit`` is a tool to find known security vulnerabilities in the dependencies of a Rust project.\n",
    "\n",
    "It is executed at the top level of a project, yields a list of known security issues, and even has an option to fix them.\n",
    "\n",
    "These commands are useful in this context:\n",
    "\n",
    "* ``cargo audit`` - checks current project dependencies for vulnerabilities\n",
    "\n",
    "\n",
    "* ``cargo audit -f <PATH_TO_LOCK>`` - checks specified crate (Cargo.lock) for vulnerabilities\n",
    "\n",
    "\n",
    "For more information on this tool see:\n",
    "\n",
    "* https://github.com/RustSec/cargo-audit"
   ]
  },
  {
   "cell_type": "markdown",
   "metadata": {},
   "source": [
    "### Exercise 6.2\n",
    "\n",
    "This exercise is based on two external projects: ``libc`` and ``tokio``.\n",
    "\n",
    "The following cells will checkout a specific version of these projects."
   ]
  },
  {
   "cell_type": "code",
   "execution_count": null,
   "metadata": {},
   "outputs": [],
   "source": [
    "execute_command('git clone https://github.com/rust-lang/libc.git ../libc && cd ../libc && git checkout 895bf0de')\n",
    "execute_command('git clone https://github.com/tokio-rs/tokio.git ../tokio && cd ../tokio && git checkout adad8fc3')"
   ]
  },
  {
   "cell_type": "markdown",
   "metadata": {},
   "source": [
    "Use the next cells to analyze their dependencies for known security problems."
   ]
  },
  {
   "cell_type": "code",
   "execution_count": null,
   "metadata": {},
   "outputs": [],
   "source": [
    "execute_command('cd ../libc && cargo audit')"
   ]
  },
  {
   "cell_type": "markdown",
   "metadata": {},
   "source": [
    "Which security warnings did ``cargo audit`` find for ``libc``?\n",
    "\n",
    "* *TODO*\n",
    "\n",
    "How critical are they?\n",
    "\n",
    "*TODO*\n"
   ]
  },
  {
   "cell_type": "code",
   "execution_count": null,
   "metadata": {},
   "outputs": [],
   "source": [
    "execute_command('cd ../tokio && cargo audit')"
   ]
  },
  {
   "cell_type": "markdown",
   "metadata": {},
   "source": [
    "Which security warnings did ``cargo audit`` find for ``tokio``?\n",
    "\n",
    "* *TODO*\n",
    "\n",
    "How critical are they?\n",
    "\n",
    "*TODO*\n"
   ]
  },
  {
   "cell_type": "code",
   "execution_count": null,
   "metadata": {},
   "outputs": [],
   "source": []
  }
 ],
 "metadata": {
  "kernelspec": {
   "display_name": "Python 3",
   "language": "python",
   "name": "python3"
  },
  "language_info": {
   "codemirror_mode": {
    "name": "ipython",
    "version": 3
   },
   "file_extension": ".py",
   "mimetype": "text/x-python",
   "name": "python",
   "nbconvert_exporter": "python",
   "pygments_lexer": "ipython3",
   "version": "3.8.6"
  }
 },
 "nbformat": 4,
 "nbformat_minor": 2
}
