{
 "cells": [
  {
   "cell_type": "markdown",
   "metadata": {},
   "source": [
    "# Rust Crash Course - 05 - Code Formatting and Documentation\n",
    "\n",
    "Code quality is highly influenced by proper documentation and clean, unified formatting.\n",
    "\n",
    "In the following, tools are presented that allow professional handling of these issues for Rust code.\n",
    "\n",
    "The contents represent a brief and compact introduction to the topic, inspired by the [Rust Book](https://doc.rust-lang.org/book/), the [Cargo Book](https://doc.rust-lang.org/cargo/), the [Rust Reference](https://doc.rust-lang.org/reference/), and [Rust By Example](https://doc.rust-lang.org/rust-by-example/)."
   ]
  },
  {
   "cell_type": "markdown",
   "metadata": {},
   "source": [
    "## Preparation\n",
    "\n",
    "For shell command calls, the Python module ``subprocess`` is used (https://docs.python.org/3/library/subprocess.html).\n",
    "\n",
    "Run the following code block to provide the function ``execute_command()`` within this notebook."
   ]
  },
  {
   "cell_type": "code",
   "execution_count": null,
   "metadata": {},
   "outputs": [],
   "source": [
    "import subprocess\n",
    "\n",
    "def execute_command(cmd):\n",
    "    run = subprocess.run(cmd, universal_newlines=True, shell=True, stdout=subprocess.PIPE, stderr=subprocess.STDOUT)\n",
    "    print(run.stdout)"
   ]
  },
  {
   "cell_type": "markdown",
   "metadata": {},
   "source": [
    "Of course, all shell commands given in this tutorial can also be executed directly on a Linux console."
   ]
  },
  {
   "cell_type": "markdown",
   "metadata": {},
   "source": [
    "## Cargo\n",
    "\n",
    "Cargo is **known as Rust's package manager** although it provides more features than just simple package managing.\n",
    "\n",
    "Besides package management like downloading dependencies, Cargo can also\n",
    "* generate a new project structure\n",
    "* make distributable packages\n",
    "* upload to crates.io (the package registry)\n",
    "* manage compilers and toolchains\n",
    "* and much more ...\n",
    "\n",
    "Further, **Cargo unifies the standard tools for the Rust environment**. Every subsequently mentioned tool can be used without Cargo, but Cargo makes it more accessible by streamlining the syntax of the commands to have the same structure for all the tools. Furthermore, it is possible to replace the explicitly used tool or toolchain without changing the Cargo command needed.\n",
    "\n",
    "An example for this is the compiler used by Cargo called ``rustc``. The usual way of compiling/building the project is to use the ``cargo build`` command and ``cargo run`` for building and running, if the project has a main function.\n",
    "``cargo build`` itself just invokes ``rustc`` for every single source file of the project for compilation and then uses the correct linker for the wanted target to produce the final binary. All these compiler and linker calls would need to be done manually, but Cargo unifies that behind a simple ``cargo build`` command."
   ]
  },
  {
   "cell_type": "markdown",
   "metadata": {},
   "source": [
    "## Rust Code Formatting\n",
    "\n",
    "A unified formatting scheme for source code enhances readability and structure of software.\n",
    "\n",
    "The Rust toolchain provides a tool that handles formatting automatically."
   ]
  },
  {
   "cell_type": "markdown",
   "metadata": {},
   "source": [
    "### Using ``cargo fmt``\n",
    "\n",
    "``cargo`` comes with a source code formatting tool called ``rustfmt``.\n",
    "\n",
    "It automatically formats all source code files within a project/crate.\n",
    "\n",
    "On the command line, it can be used as follows:\n",
    "\n",
    "* ``cargo fmt`` - formats all source files\n",
    "\n",
    "\n",
    "* ``cargo fmt -- --check`` - only checks formatting without actually editing files\n",
    "\n",
    "\n",
    "* ``cargo fmt --manifest-path <PATH_TO_TOML>`` - formats all source files for a project at specified path\n",
    "\n",
    "\n",
    "For more information about ``rustfmt`` see:\n",
    "\n",
    "* https://github.com/rust-lang/rustfmt"
   ]
  },
  {
   "cell_type": "markdown",
   "metadata": {},
   "source": [
    "### Visual Studio Code Integration\n",
    "\n",
    "When using VS Code, formatting can be performed even more conveniently:\n",
    "\n",
    "* e.g. by the shortcut ``Ctrl + Shift + I`` (under Linux; Win + Mac differs)\n",
    "\n",
    "* or activating this option: ``File > Preferences > Settings > Text Editor > Formatting > Format On Save``"
   ]
  },
  {
   "cell_type": "markdown",
   "metadata": {},
   "source": [
    "### Exercise 5.1\n",
    "\n",
    "Use the following cell to run a check on the source code files of the ``example-math-tools`` project."
   ]
  },
  {
   "cell_type": "code",
   "execution_count": null,
   "metadata": {},
   "outputs": [],
   "source": [
    "execute_command('cargo fmt --manifest-path ../example-math-tools/Cargo.toml -- --check')"
   ]
  },
  {
   "cell_type": "markdown",
   "metadata": {},
   "source": [
    "Which format ''mistakes'' did ``rustfmt`` find?\n",
    "\n",
    "* *TODO*"
   ]
  },
  {
   "cell_type": "markdown",
   "metadata": {},
   "source": [
    "Use ``cargo fmt`` or VS Code to apply all formatting corrections to the source code files."
   ]
  },
  {
   "cell_type": "code",
   "execution_count": null,
   "metadata": {},
   "outputs": [],
   "source": [
    "# TODO"
   ]
  },
  {
   "cell_type": "markdown",
   "metadata": {},
   "source": [
    "## Documenting Code in Rust\n",
    "\n",
    "The Rust toolchain enables the generation of documentation from comments in Rust source code with a tool called ``rustdoc``.\n",
    "\n",
    "In this section, the syntax and the generation process are explained."
   ]
  },
  {
   "cell_type": "markdown",
   "metadata": {},
   "source": [
    "### Doc Comments\n",
    "\n",
    "Doc comments in Rust allow writing [markdown](https://commonmark.org/) descriptions within comments that are used to generate an HTML documentation for a given project or crate.\n",
    "\n",
    "It may contain inline code that is rendered as short examples in the documentation. Those inline code examples can even be executed as tests during test execution or in the documentation itself.\n",
    "\n",
    "The following syntax marks doc comments for different levels:\n",
    "\n",
    "* ``//! ...`` - inner line comment: comment for the previous element (usually used on top level: crate comment/documentation)\n",
    "\n",
    "\n",
    "* ``/*! ... */`` - inner block comment\n",
    "\n",
    "\n",
    "* ``/// ...`` - outer line comment: comment for the following element, e.g. a function, a module, a struct, etc.\n",
    "\n",
    "\n",
    "* ``/** ... */`` - outer block comment\n",
    "\n",
    "\n",
    "For further information on doc comments and usage see:\n",
    "\n",
    "* https://doc.rust-lang.org/rust-by-example/meta/doc.html\n",
    "* https://doc.rust-lang.org/reference/comments.html\n",
    "* https://doc.rust-lang.org/rustdoc/"
   ]
  },
  {
   "cell_type": "markdown",
   "metadata": {},
   "source": [
    "### Doc Macros\n",
    "\n",
    "``rustdoc`` enables the use of certain macros that help the process of documentation.\n",
    "\n",
    "One of the most used macros is ``#![warn(missing_docs)]``. This will automatically show a warning during compilation/building, if certain functions/modules/traits/etc. are not documented, e.g. by a doc comment.\n",
    "\n",
    "This is further extended with the macro ``#![deny(missing_docs)]``, which will break the compilation, if one of the functions/modules/traits/etc. is not documented.\n",
    "\n",
    "For the most comprehensive documentation, the macro ``#![deny(missing_doc_code_examples)]`` can be added.\n",
    "This will break the compilation, if a function does not have a code example within its doc comment.\n",
    "\n",
    "These three macros are basically three steps of documentation guarantee. The ``#![warn(missing_docs)]`` macro helps to move towards a more comprehensive documentation. To step it up a notch, ``#![deny(missing_docs)]`` can be added to ensure (and enforce) the project will not drift away from being well documented. For the best documentation, ``#![deny(missing_doc_code_examples)]`` is a great way to not only enforce docs, but also enforce documented examples for every function.\n",
    "\n",
    "On the other hand, there are cases where certain, internal implementation details should not find their way into the documentation to ensure correct and idiomatic usage of a library/crate. For this case, ``#[doc(hidden)]`` can be used. It makes sure a certain implementation will not show up in the docs.\n",
    "\n",
    "Further macros can be found here:\n",
    "\n",
    "* https://doc.rust-lang.org/rustdoc/"
   ]
  },
  {
   "cell_type": "markdown",
   "metadata": {},
   "source": [
    "### Documentation Generation with ``cargo doc``\n",
    "\n",
    "The generation of HTML documentation from Rust source code is handled by ``cargo`` through the usage of ``rustdoc``.\n",
    "\n",
    "These commands are useful for this purpose:\n",
    "\n",
    "* ``cargo doc`` - builds the documentation\n",
    "\n",
    "\n",
    "* ``cargo doc --open`` - builds the documentation and opens its index page in a browser\n",
    "\n",
    "\n",
    "* ``cargo doc --manifest-path <PATH_TO_TOML>`` - builds the documentation for a project at specified path\n",
    "\n",
    "\n",
    "The following cell generates the documentation for the ``example-math-tools`` project and opens it."
   ]
  },
  {
   "cell_type": "code",
   "execution_count": null,
   "metadata": {},
   "outputs": [],
   "source": [
    "execute_command('cargo doc --manifest-path ../example-math-tools/Cargo.toml --open')"
   ]
  },
  {
   "cell_type": "markdown",
   "metadata": {},
   "source": [
    "### Exercise 5.2\n",
    "\n",
    "Examine the doc comments available in the file ``lib.rs`` of the ``example-math-tools`` project.\n",
    "\n",
    "Take a look at the integration of headlines, code examples, and typewriter style.\n",
    "\n",
    "Write the documentation for the function ``multi`` and re-generate the documentation.\n",
    "\n",
    "The following cell opens the project within Visual Studio Code."
   ]
  },
  {
   "cell_type": "code",
   "execution_count": null,
   "metadata": {},
   "outputs": [],
   "source": [
    "execute_command('code ../example-math-tools')"
   ]
  },
  {
   "cell_type": "code",
   "execution_count": null,
   "metadata": {},
   "outputs": [],
   "source": []
  }
 ],
 "metadata": {
  "kernelspec": {
   "display_name": "Python 3",
   "language": "python",
   "name": "python3"
  },
  "language_info": {
   "codemirror_mode": {
    "name": "ipython",
    "version": 3
   },
   "file_extension": ".py",
   "mimetype": "text/x-python",
   "name": "python",
   "nbconvert_exporter": "python",
   "pygments_lexer": "ipython3",
   "version": "3.8.6"
  }
 },
 "nbformat": 4,
 "nbformat_minor": 2
}
