{
 "cells": [
  {
   "cell_type": "markdown",
   "metadata": {},
   "source": [
    "# Rust Crash Course - 07 - Code Testing\n",
    "\n",
    "Software testing is an important area of software development and there should be no Rust project without a solid set of implemented tests.\n",
    "\n",
    "In the following, testing tools and strategies for Rust projects are presented.\n",
    "\n",
    "The contents represent a brief and compact introduction to the topic, inspired by the [Rust Book](https://doc.rust-lang.org/book/), the [Cargo Book](https://doc.rust-lang.org/cargo/), the [Rust Reference](https://doc.rust-lang.org/reference/), and [Rust By Example](https://doc.rust-lang.org/rust-by-example/)."
   ]
  },
  {
   "cell_type": "markdown",
   "metadata": {},
   "source": [
    "## Preparation\n",
    "\n",
    "For shell command calls, the Python module ``subprocess`` is used (https://docs.python.org/3/library/subprocess.html).\n",
    "\n",
    "Run the following code block to provide the function ``execute_command()`` within this notebook."
   ]
  },
  {
   "cell_type": "code",
   "execution_count": null,
   "metadata": {},
   "outputs": [],
   "source": [
    "import subprocess\n",
    "\n",
    "def execute_command(cmd):\n",
    "    run = subprocess.run(cmd, universal_newlines=True, shell=True, stdout=subprocess.PIPE, stderr=subprocess.STDOUT)\n",
    "    print(run.stdout)"
   ]
  },
  {
   "cell_type": "markdown",
   "metadata": {},
   "source": [
    "Of course, all shell commands given in this tutorial can also be executed directly on a Linux console."
   ]
  },
  {
   "cell_type": "markdown",
   "metadata": {},
   "source": [
    "## Tests in Rust\n",
    "\n",
    "There are three basic ways of testing in Rust:\n",
    "* Unit tests\n",
    "* Doc tests\n",
    "* Integration tests\n",
    "\n",
    "In this section, these testing types are introduced.\n",
    "\n",
    "For more information on testing see:\n",
    "\n",
    "* https://doc.rust-lang.org/beta/rust-by-example/testing.html"
   ]
  },
  {
   "cell_type": "markdown",
   "metadata": {},
   "source": [
    "### Unit Tests\n",
    "\n",
    "In Rust, functions for unit tests are marked with ``#[test]`` within the source code.\n",
    "\n",
    "Usually, unit tests are collected in a ``tests`` module with the ``#[cfg(test)]`` attribute.\n",
    "\n",
    "Tests fail, if the test function panics. These macros are helpful in this context:\n",
    "\n",
    "* ``assert!(expression)`` - panics if expression evaluates to false\n",
    "\n",
    "\n",
    "* ``assert_eq!(left, right)`` - panics if left and right expressions are not equal\n",
    "\n",
    "\n",
    "* ``assert_ne!(left, right)`` - panics if left and right expressions are equal\n",
    "\n",
    "\n",
    "If a function is expected to panic, the ``#[should_panic]`` attribute can be used.\n",
    "\n",
    "If a specific panic message is expected, the attribute can be used with an ``expected`` modifier, i.e. ``#[should_panic(expected = \"...\")]``.\n",
    "\n",
    "Tests can also be marked to be ignored with the ``#[ignore]`` attribute.\n",
    "\n",
    "Dependencies only needed for tests can be put under ``[dev-dependencies]`` in the file ``Cargo.toml``."
   ]
  },
  {
   "cell_type": "markdown",
   "metadata": {},
   "source": [
    "### Doc Tests\n",
    "\n",
    "Code examples contained in doc comments may also serve as tests and can be written in a similar manner to unit tests."
   ]
  },
  {
   "cell_type": "markdown",
   "metadata": {},
   "source": [
    "### Integration Tests\n",
    "\n",
    "Rust also provides the possibility for integration tests.\n",
    "\n",
    "These tests are written in a similar way like unit tests, but they are located in separate files within the ``tests`` directory on the same level as the ``src`` directory."
   ]
  },
  {
   "cell_type": "markdown",
   "metadata": {},
   "source": [
    "### Running Unit Tests with ``cargo test``\n",
    "\n",
    "The following command can be used to run tests with ``cargo``:\n",
    "\n",
    "* ``cargo test`` - runs all tests\n",
    "\n",
    "\n",
    "* ``cargo test --doc`` - runs only tests in doc comments\n",
    "\n",
    "\n",
    "* ``cargo test <NAME>`` - runs tests that (partially) match NAME\n",
    "\n",
    "\n",
    "* ``cargo test -- --ignored`` - runs ignored tests\n",
    "\n",
    "\n",
    "The following cell runs the implemented unit tests for the ``example-math-tools`` project."
   ]
  },
  {
   "cell_type": "code",
   "execution_count": null,
   "metadata": {},
   "outputs": [],
   "source": [
    "execute_command('cargo test --manifest-path ../example-math-tools/Cargo.toml')"
   ]
  },
  {
   "cell_type": "markdown",
   "metadata": {},
   "source": [
    "### Visual Studio Code Integration\n",
    "\n",
    "VS Code adds annotations to test functions in Rust source code. That allows executing specific tests by one click."
   ]
  },
  {
   "cell_type": "markdown",
   "metadata": {},
   "source": [
    "### Exercise 7.1\n",
    "\n",
    "Write and run unit tests for the function ``multi`` of the ``example-math-tools`` project. The tests should cover normal behavior as well as an overflowing result."
   ]
  },
  {
   "cell_type": "code",
   "execution_count": null,
   "metadata": {},
   "outputs": [],
   "source": [
    "execute_command('code ../example-math-tools')"
   ]
  },
  {
   "cell_type": "markdown",
   "metadata": {},
   "source": [
    "## Testing by Examples\n",
    "\n",
    "A common way to test the correct functionality of Rust libraries and crates is the usage of examples. Additionally, developers benefit from this testing approach because they can build upon source code that shows an exemplary usage.\n",
    "Compared to unit and integration tests, the lack of asserts in examples is a disadvantage. Therefore, examples cannot fail by using asserts."
   ]
  },
  {
   "cell_type": "markdown",
   "metadata": {},
   "source": [
    "### Writing and Executing Examples\n",
    "\n",
    "Examples are placed in the ``examples`` directory on the same level as the ``src`` directory.\n",
    "\n",
    "To run an example, the following command has to be used:\n",
    "\n",
    "* ``cargo run --example <NAME>`` - runs example as a test\n",
    "\n",
    "The subsequent cell runs the example ``fibonacci`` provided with the ``example-math-tools`` project."
   ]
  },
  {
   "cell_type": "code",
   "execution_count": null,
   "metadata": {},
   "outputs": [],
   "source": [
    "execute_command('cargo run --manifest-path ../example-math-tools/Cargo.toml --example fibonacci')"
   ]
  },
  {
   "cell_type": "markdown",
   "metadata": {},
   "source": [
    "### Exercise 7.2\n",
    "\n",
    "Create a second example that uses the functions of the ``example-math-tools`` library to calculate the factorial function for a given input.\n",
    "\n",
    "For mathematical details see:\n",
    "\n",
    "* https://en.wikipedia.org/wiki/Factorial"
   ]
  },
  {
   "cell_type": "code",
   "execution_count": null,
   "metadata": {},
   "outputs": [],
   "source": [
    "execute_command('code ./../example-math-tools')"
   ]
  }
 ],
 "metadata": {
  "kernelspec": {
   "display_name": "Python 3",
   "language": "python",
   "name": "python3"
  },
  "language_info": {
   "codemirror_mode": {
    "name": "ipython",
    "version": 3
   },
   "file_extension": ".py",
   "mimetype": "text/x-python",
   "name": "python",
   "nbconvert_exporter": "python",
   "pygments_lexer": "ipython3",
   "version": "3.8.6"
  }
 },
 "nbformat": 4,
 "nbformat_minor": 2
}
