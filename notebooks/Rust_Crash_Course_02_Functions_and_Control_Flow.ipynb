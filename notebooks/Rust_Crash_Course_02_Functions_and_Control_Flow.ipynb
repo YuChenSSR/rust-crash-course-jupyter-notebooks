{
 "cells": [
  {
   "cell_type": "markdown",
   "metadata": {},
   "source": [
    "# Rust Crash Course - 02 - Functions and Control Flow\n",
    "\n",
    "Functions and control flow elements are essential to structure a program.\n",
    "\n",
    "In the following, the implementation of these concepts in Rust is explained.\n",
    "\n",
    "The contents represent a brief and compact introduction to the topic, inspired by the [Rust Book](https://doc.rust-lang.org/book/), the [Rust Reference](https://doc.rust-lang.org/reference/), and [Rust By Example](https://doc.rust-lang.org/rust-by-example/)."
   ]
  },
  {
   "cell_type": "markdown",
   "metadata": {},
   "source": [
    "## Functions\n",
    "\n",
    "The ``main()`` function in Rust is the entry point for all programs. However, in the Jupyter kernel running these notebooks, the ``main()`` function is hidden and not explicitly visible. Nevertheless, functions can be defined by the keyword ``fn``, which is useful to structure code.\n",
    "\n",
    "Functions can be defined before or after the calling function, Rust does not care about that.\n",
    "\n",
    "As for variables, ``snake_case`` is the conventional style for function names."
   ]
  },
  {
   "cell_type": "code",
   "execution_count": null,
   "metadata": {},
   "outputs": [],
   "source": [
    "fn some_function() {\n",
    "    println!(\"some function executing ...\");\n",
    "\n",
    "    special_function_snake_case();\n",
    "}\n",
    "\n",
    "fn special_function_snake_case() {\n",
    "    println!(\"special function executing ...\");\n",
    "}\n",
    "\n",
    "some_function();"
   ]
  },
  {
   "cell_type": "markdown",
   "metadata": {},
   "source": [
    "### Arguments\n",
    "\n",
    "Function arguments can be specified between the brackets after the function name."
   ]
  },
  {
   "cell_type": "code",
   "execution_count": null,
   "metadata": {},
   "outputs": [],
   "source": [
    "fn print_squared_value(mut value: u32, value_name: &str) {\n",
    "    value = value * value;\n",
    "    println!(\"{} (squared) = {}\", value_name, value);\n",
    "}\n",
    "\n",
    "let mut x = 7;\n",
    "\n",
    "print_squared_value(x, \"Test Value\");    // call by value, i.e. value copied to function\n",
    "\n",
    "println!(\"x = {}\", x);    // no squaring of original value"
   ]
  },
  {
   "cell_type": "markdown",
   "metadata": {},
   "source": [
    "### Return Values\n",
    "\n",
    "If a function should return a value, this is denoted by ``->`` followed by the data type of the return value.\n",
    "\n",
    "The last expression in the body of a function is automatically returned.\n",
    "\n",
    "Early or explicit return from a function is possible by using the keyword ``return``."
   ]
  },
  {
   "cell_type": "code",
   "execution_count": null,
   "metadata": {},
   "outputs": [],
   "source": [
    "fn add(a: u8, b: u8) -> u8 {\n",
    "    a + b\n",
    "}\n",
    "\n",
    "fn sub(a: u8, b: u8) -> u8 {\n",
    "    let c = a - b;\n",
    "    return c\n",
    "}\n",
    "\n",
    "let a = 5;\n",
    "let b = 3;\n",
    "println!(\"a + b = {}\", add(a, b));\n",
    "println!(\"a - b = {}\", sub(a, b));"
   ]
  },
  {
   "cell_type": "markdown",
   "metadata": {},
   "source": [
    "The following example results in a compile error, because the ``;`` in the last line of the function body changes the expression to a statement."
   ]
  },
  {
   "cell_type": "code",
   "execution_count": null,
   "metadata": {},
   "outputs": [],
   "source": [
    "fn add(a: u8, b: u8) -> u8 {\n",
    "    a + b;\n",
    "}\n",
    "\n",
    "let a = 7;\n",
    "let b = 8;\n",
    "println!(\"a + b = {}\", add(a, b));"
   ]
  },
  {
   "cell_type": "markdown",
   "metadata": {},
   "source": [
    "## Control Flow\n",
    "\n",
    "The most common control flow elements are conditional paths and loops."
   ]
  },
  {
   "cell_type": "markdown",
   "metadata": {},
   "source": [
    "### ``if`` Expressions\n",
    "\n",
    "``if`` and ``else`` expressions allow to select one branch from different possible branches, depending on given conditions."
   ]
  },
  {
   "cell_type": "code",
   "execution_count": null,
   "metadata": {},
   "outputs": [],
   "source": [
    "let height = 117;\n",
    "\n",
    "if height < 120 {\n",
    "    println!(\"Stop! Height is too low!\");\n",
    "} else {\n",
    "    println!(\"Go ahead ...\");\n",
    "};"
   ]
  },
  {
   "cell_type": "markdown",
   "metadata": {},
   "source": [
    "Further, it is possible to use ``else if`` constructs to check multiple conditions."
   ]
  },
  {
   "cell_type": "code",
   "execution_count": null,
   "metadata": {},
   "outputs": [],
   "source": [
    "let height = 156;\n",
    "\n",
    "if height < 140 {\n",
    "    println!(\"Size: S\");\n",
    "} else if height < 160 {\n",
    "    println!(\"Size: M\");\n",
    "} else if height < 180 {\n",
    "    println!(\"Size: L\");\n",
    "} else {\n",
    "    println!(\"Size: XL\");\n",
    "};"
   ]
  },
  {
   "cell_type": "markdown",
   "metadata": {},
   "source": [
    "Also, ``if`` expressions can be used on the right side of ``let`` statements."
   ]
  },
  {
   "cell_type": "code",
   "execution_count": null,
   "metadata": {},
   "outputs": [],
   "source": [
    "let n_people = 11;\n",
    "let n_tables = if n_people <= 8 {\n",
    "    1\n",
    "} else {\n",
    "    2\n",
    "};\n",
    "\n",
    "println!(\"{} people need {} table(s)!\", n_people, n_tables);"
   ]
  },
  {
   "cell_type": "markdown",
   "metadata": {},
   "source": [
    "### ``match`` Expressions\n",
    "\n",
    "The ``match`` operator in Rust enables a variety of efficient programming constructs. It compares a given value to a series of patterns and executes code, depending on the first matching pattern. It is similar to ``switch`` statements in C, but more powerful."
   ]
  },
  {
   "cell_type": "code",
   "execution_count": null,
   "metadata": {},
   "outputs": [],
   "source": [
    "enum DayOfWeek {\n",
    "    Monday,\n",
    "    Tuesday,\n",
    "    Wednesday,\n",
    "    Thursday,\n",
    "    Friday,\n",
    "    Saturday,\n",
    "    Sunday,\n",
    "}\n",
    "\n",
    "fn hours_in_office(day: DayOfWeek) -> u8 {\n",
    "    match day {\n",
    "        DayOfWeek::Monday => 8,\n",
    "        DayOfWeek::Tuesday => 6,\n",
    "        DayOfWeek::Wednesday => 10,\n",
    "        DayOfWeek::Thursday => 5,\n",
    "        DayOfWeek::Friday => 4,\n",
    "        DayOfWeek::Saturday => {\n",
    "            println!(\"IT'S WEEKEND, MAN!\");\n",
    "            0\n",
    "        },\n",
    "        DayOfWeek::Sunday => {\n",
    "            println!(\"IT'S WEEKEND, MAN!\");\n",
    "            0\n",
    "        },\n",
    "    }\n",
    "}\n",
    "\n",
    "println!(\"On Tuesday, I spent {} hours in office!\", hours_in_office(DayOfWeek::Tuesday));\n",
    "println!(\"On Saturday, I spent {} hours in office!\", hours_in_office(DayOfWeek::Saturday));"
   ]
  },
  {
   "cell_type": "markdown",
   "metadata": {},
   "source": [
    "Another important fact about ``match`` expressions is that they have to be exhaustive. If a code does not handle all possibilities, the compiler will show an error. However, there is a placeholder (``_``) that handles all remaining patterns."
   ]
  },
  {
   "cell_type": "code",
   "execution_count": null,
   "metadata": {},
   "outputs": [],
   "source": [
    "fn hours_of_freetime(day: DayOfWeek) -> u8 {\n",
    "    match day {\n",
    "        DayOfWeek::Saturday => 8,\n",
    "        DayOfWeek::Sunday => 12,\n",
    "        _ => 0,\n",
    "    }\n",
    "}\n",
    "\n",
    "println!(\"On Tuesday, I have {} hours of freetime!\", hours_of_freetime(DayOfWeek::Tuesday));"
   ]
  },
  {
   "cell_type": "markdown",
   "metadata": {},
   "source": [
    "Common use cases for ``match`` expressions are the ``Option<T>`` and the ``Result<T, E>`` data types, because easy handling of absent data and errors is possible."
   ]
  },
  {
   "cell_type": "code",
   "execution_count": null,
   "metadata": {},
   "outputs": [],
   "source": [
    "fn square(a: Option<i32>) -> Result<i32, &'static str> {\n",
    "    match a {\n",
    "        None    => Err(\"No number to square!\"),\n",
    "        Some(c) => Ok(c * c),\n",
    "    }\n",
    "}\n",
    "\n",
    "fn print_number (a: Result<i32, &'static str>) {\n",
    "    match a {\n",
    "        Ok(n)  => println!(\"number = {}\", n),\n",
    "        Err(e) => println!(\"ERROR: {}\", e),\n",
    "    }\n",
    "}\n",
    "\n",
    "let squared_result = square(Some(17));\n",
    "let squared_none = square(None);\n",
    "\n",
    "println!(\"double_result = {:?}\", squared_result);\n",
    "println!(\"double_none = {:?}\", squared_none);\n",
    "\n",
    "print_number(squared_result);\n",
    "print_number(squared_none);"
   ]
  },
  {
   "cell_type": "markdown",
   "metadata": {},
   "source": [
    "### ``loop`` Loops\n",
    "\n",
    "The ``loop`` keyword executes code in an endless loop until it is explicitly told to stop by the ``break`` keyword. Unlike other programming languages, a ``loop`` loop may return a value, but does not have to."
   ]
  },
  {
   "cell_type": "code",
   "execution_count": null,
   "metadata": {},
   "outputs": [],
   "source": [
    "let mut counter = 0;\n",
    "let mut faculty = 1;\n",
    "\n",
    "faculty = loop {\n",
    "    counter += 1;\n",
    "    faculty *= counter;\n",
    "    if counter == 8 {\n",
    "        break faculty;\n",
    "    }\n",
    "};\n",
    "\n",
    "println!(\"Faculty of 8 is: {}\", faculty);"
   ]
  },
  {
   "cell_type": "markdown",
   "metadata": {},
   "source": [
    "### ``while`` Loops\n",
    "\n",
    "Loops that should run as long as a specific condition is ``true`` can be implemented using ``while`` loops."
   ]
  },
  {
   "cell_type": "code",
   "execution_count": null,
   "metadata": {},
   "outputs": [],
   "source": [
    "let mut number = 0;\n",
    "let mut sum = 0;\n",
    "\n",
    "while number < 6 {\n",
    "    number += 1;\n",
    "    sum += number;\n",
    "};\n",
    "\n",
    "println!(\"Sum of numbers up to 6 is: {}\", sum);"
   ]
  },
  {
   "cell_type": "markdown",
   "metadata": {},
   "source": [
    "### ``for`` Loops\n",
    "\n",
    "``for`` loops are especially useful to loop through every element of an array or a collection."
   ]
  },
  {
   "cell_type": "code",
   "execution_count": null,
   "metadata": {},
   "outputs": [],
   "source": [
    "const TEMPERATURE_MAX: f32 = 40.0;\n",
    "\n",
    "let temperature = [21.3, 22.7, 22.4, 25.2, 21.9];\n",
    "\n",
    "for t in temperature.iter() {\n",
    "    println!(\"Temperature {:.1} is {:.1} degrees from MAX!\", t, TEMPERATURE_MAX - t);\n",
    "    // {:.1} tells the formatter to display only one decimal place\n",
    "};"
   ]
  },
  {
   "cell_type": "markdown",
   "metadata": {},
   "source": [
    "## Exercises\n",
    "\n",
    "The following exercises may help to practice the obtained knowledge."
   ]
  },
  {
   "cell_type": "markdown",
   "metadata": {},
   "source": [
    "### The Broken Code\n",
    "\n",
    "The following code is broken and cannot be compiled.\n",
    "\n",
    "Correct the code in order to compile and output the final position of the \"runner\" (x = -18, y = -7)."
   ]
  },
  {
   "cell_type": "code",
   "execution_count": null,
   "metadata": {},
   "outputs": [],
   "source": [
    "enum Running {\n",
    "    Right(i8),\n",
    "    Left(i8),\n",
    "    Forward(i8),\n",
    "    Backward(i8),\n",
    "}\n",
    "\n",
    "let mut x_pos: i8 = 0\n",
    "let mut y_pos: i8 = 0\n",
    "\n",
    "let steps: [i8; 10] = [1, 2, 3, 4, 5, 6, 7, 8, 9, 10];\n",
    "\n",
    "fn run(x, y, mv: Running) -> (i8, i8) {\n",
    "    let x_new = match mv {\n",
    "        Running::Right(n) => x + n,\n",
    "        Running::Left(n) => x - n,\n",
    "        Running::Forward(n) => x,\n",
    "        Running::Backward(n) => x,\n",
    "    };\n",
    "    let y_new = match mv {\n",
    "        Running:::Right(n) => y,\n",
    "        Running:::Left(n) => y,\n",
    "        Running:::Forward(n) => y + n,\n",
    "        Running:::Backward(n) => y - n,\n",
    "    }\n",
    "    (x_new, y_new)\n",
    "}\n",
    "\n",
    "let mut counter = 0;\n",
    "\n",
    "println(\"Runners starts at ({}, {})!\", x_pos, y_pos);\n",
    "\n",
    "while counter < 10 {\n",
    "    let mut new_pos: (u32, u32) = (0, 0);\n",
    "    if counter < 2 {\n",
    "        new_pos = run(x_pos, y_pos, Running::Right(steps[counter]));\n",
    "    } else if counter < 5 {\n",
    "        new_pos = run(x_pos, y_pos, Running::Forward(steps(counter)));\n",
    "    } else if counter < 8 {\n",
    "        new_pos = run(x_pos, y_pos, Running::Left(steps[counter]));\n",
    "    } else {\n",
    "        new_pos = run(x_pos, y_pos, Running::Backward(steps[counter]));\n",
    "    }\n",
    "    x_pos = new_pos.0;\n",
    "    y_pos = new_pos.1;\n",
    "    println!(\"Runner is now at (x = {}, y = {})!\"; x_pos, y_pos);\n",
    "    counter += 1;\n",
    "}\n",
    "\n",
    "println!(\"Runner stopped its workout!\");"
   ]
  },
  {
   "cell_type": "markdown",
   "metadata": {},
   "source": [
    "### The Geometric Series\n",
    "\n",
    "The geometric series can be denoted as follows:\n",
    "\n",
    "$\\sum_{n=0}^\\infty z^n$\n",
    "\n",
    "Write a program that calculates and outputs the sum of the series values for $z = \\frac{1}{2}$ and $n = 0~..~19$ (Result: 1.99999809265).\n",
    "\n",
    "**Hint:** *It might be interesting to explore the differences between using ``f64`` and ``f32`` as data type.*"
   ]
  },
  {
   "cell_type": "code",
   "execution_count": null,
   "metadata": {},
   "outputs": [],
   "source": []
  }
 ],
 "metadata": {
  "kernelspec": {
   "display_name": "Rust",
   "language": "rust",
   "name": "rust"
  },
  "language_info": {
   "codemirror_mode": "rust",
   "file_extension": ".rs",
   "mimetype": "text/rust",
   "name": "Rust",
   "pygment_lexer": "rust",
   "version": ""
  }
 },
 "nbformat": 4,
 "nbformat_minor": 2
}
