{
 "cells": [
  {
   "cell_type": "code",
   "execution_count": 2,
   "metadata": {},
   "outputs": [
    {
     "name": "stdout",
     "output_type": "stream",
     "text": [
      "pair.0 = a\n",
      "pair.1 = 17\n",
      "pair = ('a', 17)\n"
     ]
    }
   ],
   "source": [
    "let _x = 42;\n",
    "let pair = ('a', 17);\n",
    "pair.0; // this sis 'a'\n",
    "pair.1; // this is 17\n",
    "\n",
    "println!(\"pair.0 = {}\", pair.0);\n",
    "println!(\"pair.1 = {}\", pair.1);\n",
    "print!(\"pair = {:?}\\n\", pair); // this will print the whole pair\n"
   ]
  },
  {
   "cell_type": "code",
   "execution_count": 3,
   "metadata": {},
   "outputs": [
    {
     "name": "stdout",
     "output_type": "stream",
     "text": [
      "x = 60\n"
     ]
    }
   ],
   "source": [
    "let x = vec![1, 2, 3, 4, 5, 6, 7, 8]\n",
    "    .iter()\n",
    "    .map(|x| x + 3)\n",
    "    .fold(0, |x, y| x + y);\n",
    "\n",
    "println!(\"x = {}\", x);"
   ]
  },
  {
   "cell_type": "code",
   "execution_count": 4,
   "metadata": {},
   "outputs": [
    {
     "name": "stdout",
     "output_type": "stream",
     "text": [
      "in\n"
     ]
    }
   ],
   "source": [
    "\n",
    "// This prints \"in\", then \"out\"\n",
    "fn main() {\n",
    "    let x = \"out\";\n",
    "    {\n",
    "        // this is a different `x`\n",
    "        let x = \"in\";\n",
    "        println!(\"{}\", x);\n",
    "    }\n",
    "    println!(\"{}\", x);\n",
    "}\n",
    "main();"
   ]
  },
  {
   "cell_type": "code",
   "execution_count": 6,
   "metadata": {},
   "outputs": [
    {
     "name": "stdout",
     "output_type": "stream",
     "text": [
      "x = 3\n"
     ]
    }
   ],
   "source": [
    "let x = {\n",
    "    let y = 1; // first statement\n",
    "    let z = 2; // second statement\n",
    "    y + z // this is the *tail* - what the whole block will evaluate to\n",
    "};\n",
    "\n",
    "println!(\"x = {}\",x);"
   ]
  },
  {
   "cell_type": "code",
   "execution_count": 7,
   "metadata": {},
   "outputs": [
    {
     "name": "stdout",
     "output_type": "stream",
     "text": [
      "x = 11\n"
     ]
    }
   ],
   "source": [
    "let condition = true;\n",
    "let x = if condition { 11 } else { 2 };\n",
    "// let y = if condition { 1 } else { \"hello\" }; // 这行会导致编译错误\n",
    "\n",
    "println!(\"x = {}\", x);"
   ]
  },
  {
   "cell_type": "code",
   "execution_count": 8,
   "metadata": {},
   "outputs": [
    {
     "data": {
      "text/plain": [
       "6"
      ]
     },
     "execution_count": 8,
     "metadata": {},
     "output_type": "execute_result"
    }
   ],
   "source": [
    "let feeling_lucky = true;\n",
    "\n",
    "// fn fair_dice_roll() -> i32 {\n",
    "//     let feeling_lucky = false; // if there isn't this sentence, error will occur. Error: cannot find value `feeling_lucky` in this scope\n",
    "//     if feeling_lucky {\n",
    "//         6\n",
    "//     } else {\n",
    "//         4\n",
    "//     }\n",
    "// }\n",
    "\n",
    "fn fair_dice_roll() -> i32 {\n",
    "    let feeling_lucky = true;\n",
    "    match feeling_lucky {\n",
    "        true => 6,\n",
    "        false => 4,\n",
    "    }\n",
    "}\n",
    "\n",
    "fair_dice_roll()"
   ]
  },
  {
   "cell_type": "code",
   "execution_count": 9,
   "metadata": {},
   "outputs": [],
   "source": [
    "let a = (10, 20);\n",
    "a.0; // this is 10\n",
    "\n",
    "// let amos = get_some_struct();\n",
    "// amos.nickname; // this is \"fasterthanlime\""
   ]
  },
  {
   "cell_type": "code",
   "execution_count": 10,
   "metadata": {},
   "outputs": [
    {
     "data": {
      "text/plain": [
       "14"
      ]
     },
     "execution_count": 10,
     "metadata": {},
     "output_type": "execute_result"
    }
   ],
   "source": [
    "let nick = \"fasterthanlime\";\n",
    "nick.len() // this is 14"
   ]
  },
  {
   "cell_type": "code",
   "execution_count": 11,
   "metadata": {},
   "outputs": [
    {
     "data": {
      "text/plain": [
       "3"
      ]
     },
     "execution_count": 11,
     "metadata": {},
     "output_type": "execute_result"
    }
   ],
   "source": [
    "let least = std::cmp::min(3, 8); // this is 3\n",
    "least"
   ]
  },
  {
   "cell_type": "code",
   "execution_count": 12,
   "metadata": {},
   "outputs": [],
   "source": [
    ":dep rand = \"0.8\" \n",
    "//添加依赖项:\n"
   ]
  },
  {
   "cell_type": "code",
   "execution_count": 13,
   "metadata": {},
   "outputs": [
    {
     "data": {
      "text/plain": [
       "4"
      ]
     },
     "execution_count": 13,
     "metadata": {},
     "output_type": "execute_result"
    }
   ],
   "source": [
    "use rand::Rng;\n",
    "\n",
    "fn fair_dice_roll() -> i32 {\n",
    "    let mut rng = rand::thread_rng();\n",
    "    rng.gen_range(1..=6)\n",
    "}\n",
    "\n",
    "fair_dice_roll()"
   ]
  },
  {
   "cell_type": "code",
   "execution_count": 14,
   "metadata": {},
   "outputs": [
    {
     "name": "stdout",
     "output_type": "stream",
     "text": [
      "v1.x = 1\n",
      "v1.y = 2\n",
      "v2.x = 1\n",
      "v2.y = 2\n"
     ]
    }
   ],
   "source": [
    "struct Vec2 {\n",
    "    x: f64, // 64-bit floating point, aka \"double precision\"\n",
    "    y: f64,\n",
    "}\n",
    "\n",
    "let v1 = Vec2 { x: 1.0, y: 2.0 };\n",
    "let v2 = Vec2 { y: 2.0, x: 1.0 }; // this is also valid\n",
    "\n",
    "println!(\"v1.x = {}\", v1.x);\n",
    "println!(\"v1.y = {}\", v1.y);\n",
    "println!(\"v2.x = {}\", v2.x);\n",
    "println!(\"v2.y = {}\", v2.y);\n"
   ]
  },
  {
   "cell_type": "code",
   "execution_count": 15,
   "metadata": {},
   "outputs": [
    {
     "name": "stdout",
     "output_type": "stream",
     "text": [
      "x = 3\n",
      "y = 4\n"
     ]
    }
   ],
   "source": [
    "let v = Vec2 { x: 3.0, y: 4.0 };\n",
    "let Vec2 { x, y } = v;\n",
    "\n",
    "println!(\"x = {}\", x);\n",
    "println!(\"y = {}\", y);"
   ]
  },
  {
   "cell_type": "code",
   "execution_count": 16,
   "metadata": {},
   "outputs": [
    {
     "name": "stdout",
     "output_type": "stream",
     "text": [
      "Odd number: 1\n",
      "Even number: 2\n"
     ]
    }
   ],
   "source": [
    "struct Number {\n",
    "    odd: bool,\n",
    "    value: i32,\n",
    "}\n",
    "\n",
    "fn main() {\n",
    "    let one = Number { odd: true, value: 1 };\n",
    "    let two = Number { odd: false, value: 2 };\n",
    "    print_number(one);\n",
    "    print_number(two);\n",
    "}\n",
    "\n",
    "fn print_number(n: Number) {\n",
    "    if let Number { odd: true, value } = n {\n",
    "        println!(\"Odd number: {}\", value);\n",
    "    } else if let Number { odd: false, value } = n {\n",
    "        println!(\"Even number: {}\", value);\n",
    "    }\n",
    "}\n",
    "\n",
    "main();"
   ]
  },
  {
   "cell_type": "code",
   "execution_count": 17,
   "metadata": {},
   "outputs": [
    {
     "name": "stdout",
     "output_type": "stream",
     "text": [
      "match Odd number: 3\n",
      "match Even number: 4\n"
     ]
    }
   ],
   "source": [
    "struct Number {\n",
    "    odd: bool,\n",
    "    value: i32,\n",
    "}\n",
    "\n",
    "fn main() {\n",
    "    let one = Number { odd: true, value: 3 };\n",
    "    let two = Number { odd: false, value: 4 };\n",
    "    print_number(one);\n",
    "    print_number(two);\n",
    "}\n",
    "\n",
    "fn print_number(n: Number) {\n",
    "    match n {\n",
    "        Number { odd: true, value } => println!(\"match Odd number: {}\", value),\n",
    "        Number { odd: false, value } => println!(\"match Even number: {}\", value),\n",
    "    }\n",
    "}\n",
    "\n",
    "main();\n",
    "\n",
    "// this prints the same as before"
   ]
  },
  {
   "cell_type": "code",
   "execution_count": 18,
   "metadata": {},
   "outputs": [
    {
     "name": "stdout",
     "output_type": "stream",
     "text": [
      "3\n",
      "Two\n"
     ]
    }
   ],
   "source": [
    "struct Number {\n",
    "    odd: bool,\n",
    "    value: i32,\n",
    "}\n",
    "\n",
    "fn main() {\n",
    "    let one = Number { odd: true, value: 3 };\n",
    "    let two = Number { odd: false, value: 2 };\n",
    "    print_number(one);\n",
    "    print_number(two);\n",
    "}\n",
    "\n",
    "// fn print_number(n: Number) {\n",
    "//     match n {\n",
    "//         Number { value: 1, .. } => println!(\"One\"),\n",
    "//         Number { value: 2, .. } => println!(\"Two\"),\n",
    "//         Number { value, .. } => println!(\"{}\", value),\n",
    "//         // if that last arm didn't exist, we would get a compile-time error\n",
    "//     }\n",
    "// }\n",
    "fn print_number(n: Number) {\n",
    "    match n.value {\n",
    "        1 => println!(\"One\"),\n",
    "        2 => println!(\"Two\"),\n",
    "        _ => println!(\"{}\", n.value),\n",
    "    }\n",
    "}\n",
    "\n",
    "\n",
    "main();\n",
    "\n",
    "// this prints the same as before"
   ]
  },
  {
   "cell_type": "code",
   "execution_count": 19,
   "metadata": {},
   "outputs": [
    {
     "name": "stdout",
     "output_type": "stream",
     "text": [
      "one is strictly positive: true\n",
      "two is strictly positive: true\n",
      "minus_three is strictly positive: false\n"
     ]
    }
   ],
   "source": [
    "struct Number {\n",
    "    odd: bool,\n",
    "    value: i32,\n",
    "}\n",
    "\n",
    "impl Number {\n",
    "    fn is_strictly_positive(self) -> bool {\n",
    "        self.value > 0\n",
    "    }\n",
    "}\n",
    "\n",
    "fn main() {\n",
    "    let one = Number { odd: true, value: 1 };\n",
    "    let two = Number { odd: false, value: 2 };\n",
    "    let minus_three = Number { odd: true, value: -3 };\n",
    "    println!(\"one is strictly positive: {}\", one.is_strictly_positive());\n",
    "    println!(\"two is strictly positive: {}\", two.is_strictly_positive());\n",
    "    println!(\"minus_three is strictly positive: {}\", minus_three.is_strictly_positive());\n",
    "}\n",
    "\n",
    "main();"
   ]
  },
  {
   "cell_type": "code",
   "execution_count": 20,
   "metadata": {},
   "outputs": [],
   "source": [
    "// fn main() {\n",
    "//     let n = Number {\n",
    "//         odd: true,\n",
    "//         value: 17,\n",
    "//     };\n",
    "//     n.odd = false; // error: cannot assign to `n.odd`,\n",
    "//                    // as `n` is not declared to be mutable\n",
    "// }"
   ]
  },
  {
   "cell_type": "code",
   "execution_count": 21,
   "metadata": {},
   "outputs": [],
   "source": [
    "// fn main() {\n",
    "//     let n = Number {\n",
    "//         odd: true,\n",
    "//         value: 17,\n",
    "//     };\n",
    "//     n = Number {\n",
    "//         odd: false,\n",
    "//         value: 22,\n",
    "//     }; // error: cannot assign twice to immutable variable `n`\n",
    "// }"
   ]
  },
  {
   "cell_type": "markdown",
   "metadata": {},
   "source": [
    "`mut` makes a variable binding mutable:"
   ]
  },
  {
   "cell_type": "code",
   "execution_count": 22,
   "metadata": {},
   "outputs": [],
   "source": [
    "struct Number {\n",
    "    odd: bool,\n",
    "    value: i32,\n",
    "}\n",
    "fn main() {\n",
    "    let mut n = Number {\n",
    "        odd: true,\n",
    "        value: 17,\n",
    "    };\n",
    "    n.value = 19; // all good\n",
    "}"
   ]
  },
  {
   "cell_type": "code",
   "execution_count": 23,
   "metadata": {},
   "outputs": [
    {
     "name": "stdout",
     "output_type": "stream",
     "text": [
      "one is strictly negative: false\n",
      "two is strictly negative: false\n",
      "minus_three is strictly negative: true\n"
     ]
    }
   ],
   "source": [
    "trait Signed {\n",
    "    fn is_strictly_negative(self) -> bool;\n",
    "}\n",
    "\n",
    "impl Signed for Number {\n",
    "    fn is_strictly_negative(self) -> bool {\n",
    "        self.value < 0\n",
    "    }\n",
    "}\n",
    "\n",
    "fn main() {\n",
    "    let one = Number { odd: true, value: 1 };\n",
    "    let two = Number { odd: false, value: 2 };\n",
    "    let minus_three = Number { odd: true, value: -3 };\n",
    "    println!(\"one is strictly negative: {}\", one.is_strictly_negative());\n",
    "    println!(\"two is strictly negative: {}\", two.is_strictly_negative());\n",
    "    println!(\"minus_three is strictly negative: {}\", minus_three.is_strictly_negative());\n",
    "}\n",
    "\n",
    "main();"
   ]
  },
  {
   "cell_type": "code",
   "execution_count": 24,
   "metadata": {},
   "outputs": [
    {
     "name": "stdout",
     "output_type": "stream",
     "text": [
      "The item is strictly negative.\n"
     ]
    }
   ],
   "source": [
    "fn print_sign<T: Signed>(item: T) {\n",
    "    if item.is_strictly_negative() {\n",
    "        println!(\"The item is strictly negative.\");\n",
    "    } else {\n",
    "        println!(\"The item is zero or positive.\");\n",
    "    }\n",
    "}\n",
    "\n",
    "let num = Number { odd: false, value: -5 };\n",
    "print_sign(num);\n"
   ]
  },
  {
   "cell_type": "code",
   "execution_count": 25,
   "metadata": {},
   "outputs": [
    {
     "name": "stdout",
     "output_type": "stream",
     "text": [
      "The item is zero or positive.\n"
     ]
    }
   ],
   "source": [
    "struct Point {\n",
    "    x: i32,\n",
    "    y: i32,\n",
    "}\n",
    "\n",
    "impl Signed for Point {\n",
    "    fn is_strictly_negative(self) -> bool {\n",
    "        self.x < 0 && self.y < 0\n",
    "    }\n",
    "}\n",
    "\n",
    "let point = Point { x: 1, y: -2 };\n",
    "print_sign(point);\n"
   ]
  },
  {
   "cell_type": "code",
   "execution_count": 26,
   "metadata": {},
   "outputs": [],
   "source": [
    "// the `Neg` trait is used to overload `-`, the\n",
    "// unary minus operator.\n",
    "impl std::ops::Neg for Number {\n",
    "    type Output = Number;\n",
    "\n",
    "    fn neg(self) -> Number {\n",
    "        Number {\n",
    "            value: -self.value,\n",
    "            odd: self.odd,\n",
    "        }        \n",
    "    }\n",
    "}\n"
   ]
  },
  {
   "cell_type": "code",
   "execution_count": 27,
   "metadata": {},
   "outputs": [
    {
     "name": "stdout",
     "output_type": "stream",
     "text": [
      "-987\n"
     ]
    }
   ],
   "source": [
    "let n = Number { odd: true, value: 987 };\n",
    "let m = -n; // this is only possible because we implemented `Neg`\n",
    "println!(\"{}\", m.value); // prints \"-987\"\n",
    "// println!(\"{}\", m.odd); // prints \"true\""
   ]
  },
  {
   "cell_type": "code",
   "execution_count": 28,
   "metadata": {},
   "outputs": [
    {
     "name": "stdout",
     "output_type": "stream",
     "text": [
      "odd number 17\n",
      "odd number 17\n"
     ]
    }
   ],
   "source": [
    "fn print_number(n: &Number) {\n",
    "    println!(\"{} number {}\", if n.odd { \"odd\" } else { \"even\" }, n.value);\n",
    "}\n",
    "\n",
    "let n = Number { odd: true, value: 17 };\n",
    "print_number(&n);\n",
    "print_number(&n);"
   ]
  },
  {
   "cell_type": "code",
   "execution_count": 29,
   "metadata": {},
   "outputs": [],
   "source": [
    "impl std::clone::Clone for Number {\n",
    "    fn clone(&self) -> Self {\n",
    "        Self { ..*self }\n",
    "    }\n",
    "}"
   ]
  },
  {
   "cell_type": "code",
   "execution_count": 30,
   "metadata": {},
   "outputs": [
    {
     "name": "stdout",
     "output_type": "stream",
     "text": [
      "odd number 51\n",
      "odd number 151\n"
     ]
    }
   ],
   "source": [
    "let n = Number { odd: true, value: 51 };\n",
    "let mut m = n.clone();\n",
    "m.value += 100;\n",
    "\n",
    "print_number(&n);\n",
    "print_number(&m);"
   ]
  },
  {
   "cell_type": "code",
   "execution_count": 2,
   "metadata": {},
   "outputs": [],
   "source": [
    "#[derive(Clone, Copy)]\n",
    "struct NumberNew {\n",
    "    odd: bool,\n",
    "    value: i32,\n",
    "}\n"
   ]
  },
  {
   "cell_type": "code",
   "execution_count": 3,
   "metadata": {},
   "outputs": [
    {
     "name": "stdout",
     "output_type": "stream",
     "text": [
      "num1: odd=true, value=5\n",
      "num2: odd=true, value=5\n"
     ]
    }
   ],
   "source": [
    "let num1 = NumberNew { odd: true, value: 5 };\n",
    "let num2 = num1; // num2 is a copy of num1\n",
    "println!(\"num1: odd={}, value={}\", num1.odd, num1.value);\n",
    "println!(\"num2: odd={}, value={}\", num2.odd, num2.value);\n"
   ]
  },
  {
   "cell_type": "code",
   "execution_count": 8,
   "metadata": {},
   "outputs": [
    {
     "name": "stdout",
     "output_type": "stream",
     "text": [
      "\"i32\"\n",
      "42\n",
      "\"alloc::string::String\"\n",
      "\"hello\"\n"
     ]
    }
   ],
   "source": [
    "fn foobar<T: std::fmt::Debug>(arg: T) {\n",
    "    // 示例: 打印`arg`的类型和值\n",
    "    println!(\"{:?}\", std::any::type_name::<T>());\n",
    "    println!(\"{:?}\", arg);\n",
    "}\n",
    "fn main() {\n",
    "    foobar(42); // T 被推断为 i32\n",
    "    foobar(String::from(\"hello\")); // T 被推断为 String\n",
    "}\n",
    "main();"
   ]
  },
  {
   "cell_type": "code",
   "execution_count": 4,
   "metadata": {},
   "outputs": [
    {
     "name": "stdout",
     "output_type": "stream",
     "text": [
      "Max number: 8\n",
      "Max fruit: date\n"
     ]
    },
    {
     "data": {
      "text/plain": [
       "()"
      ]
     },
     "execution_count": 4,
     "metadata": {},
     "output_type": "execute_result"
    }
   ],
   "source": [
    "fn find_max<T: Ord>(slice: &[T]) -> Option<&T> {\n",
    "    slice.iter().max()\n",
    "}\n",
    "\n",
    "fn main() {\n",
    "    let numbers = [1, 5, 2, 8, 3];\n",
    "    match find_max(&numbers) {\n",
    "        Some(max_number) => println!(\"Max number: {}\", max_number),\n",
    "        None => println!(\"Empty slice\"),\n",
    "    }\n",
    "\n",
    "    let fruits = [\"apple\", \"banana\", \"cherry\", \"date\"];\n",
    "    match find_max(&fruits) {\n",
    "        Some(max_fruit) => println!(\"Max fruit: {}\", max_fruit),\n",
    "        None => println!(\"Empty slice\"),\n",
    "    }\n",
    "}\n",
    "\n",
    "main();"
   ]
  },
  {
   "cell_type": "code",
   "execution_count": 3,
   "metadata": {},
   "outputs": [
    {
     "name": "stdout",
     "output_type": "stream",
     "text": [
      "\"tea\" != \"coffee\"\n"
     ]
    }
   ],
   "source": [
    "use std::fmt::Debug;\n",
    "\n",
    "fn compare<T>(left: T, right: T)\n",
    "where\n",
    "    T: Debug + PartialEq,\n",
    "{\n",
    "    println!(\"{:?} {} {:?}\", left, if left == right { \"==\" } else { \"!=\" }, right);\n",
    "}\n",
    "\n",
    "fn main() {\n",
    "    compare(\"tea\", \"coffee\");\n",
    "    // prints: \"tea\" != \"coffee\"\n",
    "}\n",
    "\n",
    "main();"
   ]
  },
  {
   "cell_type": "code",
   "execution_count": 5,
   "metadata": {},
   "outputs": [
    {
     "name": "stdout",
     "output_type": "stream",
     "text": [
      "i32\n"
     ]
    },
    {
     "name": "stdout",
     "output_type": "stream",
     "text": [
      "(f64, char)\n"
     ]
    }
   ],
   "source": [
    "fn main() {\n",
    "    use std::any::type_name;\n",
    "    println!(\"{}\", type_name::<i32>()); // prints \"i32\"\n",
    "    println!(\"{}\", type_name::<(f64, char)>()); // prints \"(f64, char)\"\n",
    "}\n",
    "\n",
    "main();"
   ]
  },
  {
   "cell_type": "code",
   "execution_count": 3,
   "metadata": {},
   "outputs": [
    {
     "name": "stdout",
     "output_type": "stream",
     "text": [
      "ctx::Pair<i32>\n"
     ]
    },
    {
     "name": "stdout",
     "output_type": "stream",
     "text": [
      "ctx::Pair<bool>\n"
     ]
    }
   ],
   "source": [
    "struct Pair<T> {\n",
    "    a: T,\n",
    "    b: T,\n",
    "}\n",
    "\n",
    "fn print_type_name<T>(_val: &T) {\n",
    "    println!(\"{}\", std::any::type_name::<T>());\n",
    "}\n",
    "\n",
    "fn main() {\n",
    "    let p1 = Pair { a: 3, b: 9 };\n",
    "    let p2 = Pair { a: true, b: false };\n",
    "    print_type_name(&p1); // prints \"Pair<i32>\"\n",
    "    print_type_name(&p2); // prints \"Pair<bool>\"\n",
    "}\n",
    "\n",
    "main();"
   ]
  },
  {
   "cell_type": "code",
   "execution_count": 4,
   "metadata": {},
   "outputs": [
    {
     "name": "stdout",
     "output_type": "stream",
     "text": [
      "alloc::vec::Vec<i32>\n",
      "alloc::vec::Vec<bool>\n"
     ]
    }
   ],
   "source": [
    "fn main() {\n",
    "    let mut v1 = Vec::new();\n",
    "    v1.push(1);\n",
    "    let mut v2 = Vec::new();\n",
    "    v2.push(false);\n",
    "    print_type_name(&v1); // prints \"Vec<i32>\"\n",
    "    print_type_name(&v2); // prints \"Vec<bool>\"\n",
    "}\n",
    "\n",
    "main();"
   ]
  },
  {
   "cell_type": "code",
   "execution_count": 5,
   "metadata": {},
   "outputs": [
    {
     "name": "stdout",
     "output_type": "stream",
     "text": [
      "alloc::vec::Vec<i32>\n",
      "alloc::vec::Vec<bool>\n"
     ]
    }
   ],
   "source": [
    "fn main() {\n",
    "    let v1 = vec![1, 2, 3];\n",
    "    let v2 = vec![true, false, true];\n",
    "    print_type_name(&v1); // prints \"Vec<i32>\"\n",
    "    print_type_name(&v2); // prints \"Vec<bool>\"\n",
    "}\n",
    "\n",
    "main();"
   ]
  },
  {
   "cell_type": "code",
   "execution_count": 2,
   "metadata": {},
   "outputs": [
    {
     "name": "stdout",
     "output_type": "stream",
     "text": [
      "Hello there!\n"
     ]
    },
    {
     "name": "stdout",
     "output_type": "stream",
     "text": [
      "Hello here!\n",
      "Hello, world!\n"
     ]
    }
   ],
   "source": [
    "println!(\"{}\", \"Hello there!\");\n",
    "println![\"{}\", \"Hello here!\"];\n",
    "println!(\"{}, {}!\", \"Hello\", \"world\");"
   ]
  },
  {
   "cell_type": "code",
   "execution_count": 3,
   "metadata": {},
   "outputs": [
    {
     "name": "stdout",
     "output_type": "stream",
     "text": [
      "Hello, world!\n",
      "The sum is: 8\n",
      "The sum is: 30\n"
     ]
    }
   ],
   "source": [
    "// 定义一个名为 `say_hello` 的宏\n",
    "macro_rules! say_hello {\n",
    "    () => {\n",
    "        println!(\"Hello, world!\");\n",
    "    };\n",
    "}\n",
    "\n",
    "// 定义一个带参数的宏 `print_sum`\n",
    "macro_rules! print_sum {\n",
    "    ($a:expr, $b:expr) => {\n",
    "        println!(\"The sum is: {}\", $a + $b);\n",
    "    };\n",
    "}\n",
    "\n",
    "fn main() {\n",
    "    // 使用圆括号调用宏\n",
    "    say_hello!();\n",
    "    \n",
    "    // 使用方括号调用宏\n",
    "    print_sum![3, 5];\n",
    "\n",
    "    // 使用花括号调用宏\n",
    "    print_sum!{10, 20};\n",
    "}\n",
    "\n",
    "main();"
   ]
  },
  {
   "cell_type": "code",
   "execution_count": 2,
   "metadata": {},
   "outputs": [
    {
     "name": "stdout",
     "output_type": "stream",
     "text": [
      "Hello there!\n"
     ]
    }
   ],
   "source": [
    "fn main() {\n",
    "    use std::io::{self, Write};\n",
    "    io::stdout().lock().write_all(b\"Hello there!\\n\").unwrap();\n",
    "}\n",
    "\n",
    "main();"
   ]
  },
  {
   "cell_type": "code",
   "execution_count": null,
   "metadata": {},
   "outputs": [],
   "source": [
    "// fn main() {\n",
    "//     panic!(\"This panics\");\n",
    "// }\n",
    "// // output: thread 'main' panicked at 'This panics', src/main.rs:3:5\n",
    "// main();"
   ]
  },
  {
   "cell_type": "code",
   "execution_count": 2,
   "metadata": {},
   "outputs": [
    {
     "data": {
      "text/plain": [
       "128"
      ]
     },
     "execution_count": 2,
     "metadata": {},
     "output_type": "execute_result"
    }
   ],
   "source": [
    "let o1: Option<i32> = Some(128);\n",
    "o1.unwrap() // this is fine"
   ]
  },
  {
   "cell_type": "code",
   "execution_count": 2,
   "metadata": {},
   "outputs": [
    {
     "name": "stdout",
     "output_type": "stream",
     "text": [
      "The area of rect1 is 1500 square pixels.\n"
     ]
    },
    {
     "name": "stdout",
     "output_type": "stream",
     "text": [
      "Can rect1 hold rect2? true\n",
      "Can rect1 hold rect3? false\n"
     ]
    }
   ],
   "source": [
    "struct Rectangle {\n",
    "    width: u32,\n",
    "    height: u32,\n",
    "}\n",
    "\n",
    "impl Rectangle {\n",
    "    // 关联函数（类似于类的静态方法）\n",
    "    fn new(width: u32, height: u32) -> Rectangle {\n",
    "        Rectangle { width, height }\n",
    "    }\n",
    "\n",
    "    // 方法（类似于类的实例方法）\n",
    "    fn area(&self) -> u32 {\n",
    "        self.width * self.height\n",
    "    }\n",
    "\n",
    "    fn can_hold(&self, other: &Rectangle) -> bool {\n",
    "        self.width > other.width && self.height > other.height\n",
    "    }\n",
    "}\n",
    "\n",
    "fn main() {\n",
    "    let rect1 = Rectangle::new(30, 50);\n",
    "    let rect2 = Rectangle::new(10, 40);\n",
    "    let rect3 = Rectangle::new(60, 45);\n",
    "\n",
    "    println!(\"The area of rect1 is {} square pixels.\", rect1.area());\n",
    "    println!(\"Can rect1 hold rect2? {}\", rect1.can_hold(&rect2));\n",
    "    println!(\"Can rect1 hold rect3? {}\", rect1.can_hold(&rect3));\n",
    "}\n",
    "\n",
    "main();"
   ]
  },
  {
   "cell_type": "code",
   "execution_count": 4,
   "metadata": {},
   "outputs": [
    {
     "name": "stdout",
     "output_type": "stream",
     "text": [
      "Person's name: fasterthanlime\n"
     ]
    }
   ],
   "source": [
    "// struct Person {\n",
    "//     name: &'static str,\n",
    "// }\n",
    "\n",
    "// fn main() {\n",
    "//     let name = format!(\"fasterthan{}\", \"lime\");\n",
    "//     let p = Person { name: &name };\n",
    "//     // error: `name` does not live long enough\n",
    "// }\n",
    "\n",
    "struct Person {\n",
    "    name: String,\n",
    "}\n",
    "\n",
    "fn main() {\n",
    "    let name = format!(\"fasterthan{}\", \"lime\");\n",
    "    let p = Person { name };\n",
    "    println!(\"Person's name: {}\", p.name);\n",
    "}\n",
    "\n",
    "main();"
   ]
  },
  {
   "cell_type": "code",
   "execution_count": 7,
   "metadata": {},
   "outputs": [
    {
     "name": "stdout",
     "output_type": "stream",
     "text": [
      "true\n",
      "false\n",
      "true\n",
      "true\n"
     ]
    }
   ],
   "source": [
    "// fn main() {\n",
    "//     // 0 or greater\n",
    "//     println!(\"{:?}\", (0..).contains(&100)); // true\n",
    "//     // strictly less than 20\n",
    "//     println!(\"{:?}\", (..20).contains(&20)); // false\n",
    "//     // 20 or less than 20\n",
    "//     println!(\"{:?}\", (..=20).contains(&20)); // true\n",
    "//     // only 3, 4, 5\n",
    "//     println!(\"{:?}\", (3..6).contains(&4)); // true\n",
    "// }\n",
    "\n",
    "// fn main() {\n",
    "//     // 0 or greater\n",
    "//     println!(\"{:?}\", (0..).contains(100)); // true\n",
    "//     // strictly less than 20\n",
    "//     println!(\"{:?}\", (..20).contains(20)); // false\n",
    "//     // 20 or less than 20\n",
    "//     println!(\"{:?}\", (..=20).contains(20)); // true\n",
    "//     // only 3, 4, 5\n",
    "//     println!(\"{:?}\", (3..6).contains(4)); // true\n",
    "// }\n",
    "// [E0308] Error: mismatched types\n",
    "//     ╭─[command_6:1:1]\n",
    "//     │\n",
    "//  14 │     println!(\"{:?}\", (0..).contains(100)); // true\n",
    "//     │                            ────┬─── ┬┬─  \n",
    "//     │                                ╰───────── arguments to this method are incorrect\n",
    "//     │                                     ││   \n",
    "//     │                                     ╰──── help: consider borrowing here: `&`\n",
    "//     │                                      │   \n",
    "//     │                                      ╰─── expected `&_`, found integer\n",
    "//     │ \n",
    "//     │ Note: note: method defined here\n",
    "\n",
    "\n",
    "\n",
    "main();"
   ]
  },
  {
   "cell_type": "code",
   "execution_count": 8,
   "metadata": {},
   "outputs": [
    {
     "name": "stdout",
     "output_type": "stream",
     "text": [
      "y = [2, 3, 4, 5]\n"
     ]
    }
   ],
   "source": [
    "fn tail(s: &[u8]) -> &[u8] {\n",
    "    &s[1..]\n",
    "}\n",
    "\n",
    "fn main() {\n",
    "    let x = &[1, 2, 3, 4, 5];\n",
    "    let y = tail(x);\n",
    "    println!(\"y = {:?}\", y);\n",
    "}\n",
    "\n",
    "main();"
   ]
  },
  {
   "cell_type": "code",
   "execution_count": 10,
   "metadata": {},
   "outputs": [],
   "source": [
    "// fn main() {\n",
    "//     let y = {\n",
    "//         let v = vec![1, 2, 3, 4, 5];\n",
    "//         tail(&v)\n",
    "//         // error: `v` does not live long enough\n",
    "//     };\n",
    "//     println!(\"y = {:?}\", y);\n",
    "// }\n",
    "\n",
    "// [E0597] Error: `v` does not live long enough\n",
    "//    ╭─[command_9:1:1]\n",
    "//    │\n",
    "//  2 │     let y = {\n",
    "//    │         ┬  \n",
    "//    │         ╰── borrow later stored here\n",
    "//  3 │         let v = vec![1, 2, 3, 4, 5];\n",
    "//    │             ┬  \n",
    "//    │             ╰── binding `v` declared here\n",
    "//  4 │         tail(&v)\n",
    "//    │              ─┬  \n",
    "//    │               ╰── borrowed value does not live long enough\n",
    "//    │ \n",
    "//  6 │     };\n",
    "//    │     ┬  \n",
    "//    │     ╰── `v` dropped here while still borrowed\n",
    "// ───╯\n"
   ]
  },
  {
   "cell_type": "code",
   "execution_count": 11,
   "metadata": {},
   "outputs": [
    {
     "name": "stdout",
     "output_type": "stream",
     "text": [
      "file extension: txt\n"
     ]
    }
   ],
   "source": [
    "fn file_ext(name: &str) -> Option<&str> {\n",
    "    // this does not create a new string - it returns\n",
    "    // a slice of the argument.\n",
    "    name.split('.').last()\n",
    "}\n",
    "\n",
    "fn main() {\n",
    "    let name = \"Read me. Or don't.txt\";\n",
    "    if let Some(ext) = file_ext(name) {\n",
    "        println!(\"file extension: {}\", ext);\n",
    "    } else {\n",
    "        println!(\"no file extension\");\n",
    "    }\n",
    "}\n",
    "\n",
    "main();"
   ]
  },
  {
   "cell_type": "code",
   "execution_count": 4,
   "metadata": {},
   "outputs": [],
   "source": [
    "// fn file_ext(name: &str) -> Option<&str> {\n",
    "//     // this does not create a new string - it returns\n",
    "//     // a slice of the argument.\n",
    "//     name.split('.').last()\n",
    "// }\n",
    "\n",
    "// fn main() {\n",
    "//     let ext = {\n",
    "//         let name = String::from(\"Read me. Or don't.txt\");\n",
    "//         file_ext(&name).unwrap_or(\"\")\n",
    "//         // error: `name` does not live long enough\n",
    "//     };\n",
    "//     println!(\"extension: {:?}\", ext);\n",
    "// }\n",
    "\n",
    "// [E0597] Error: `name` does not live long enough\n",
    "//     ╭─[command_3:1:1]\n",
    "//     │\n",
    "//   8 │     let ext = {\n",
    "//     │         ─┬─  \n",
    "//     │          ╰─── borrow later stored here\n",
    "//   9 │         let name = String::from(\"Read me. Or don't.txt\");\n",
    "//     │             ──┬─  \n",
    "//     │               ╰─── binding `name` declared here\n",
    "//  10 │         file_ext(&name).unwrap_or(\"\")\n",
    "//     │                  ──┬──  \n",
    "//     │                    ╰──── borrowed value does not live long enough\n",
    "//     │ \n",
    "//  12 │     };\n",
    "//     │     ┬  \n",
    "//     │     ╰── `name` dropped here while still borrowed\n",
    "// ────╯"
   ]
  },
  {
   "cell_type": "code",
   "execution_count": 9,
   "metadata": {},
   "outputs": [
    {
     "name": "stdout",
     "output_type": "stream",
     "text": [
      "extension: \"txt\"\n"
     ]
    }
   ],
   "source": [
    "fn file_ext(name: &str) -> Option<&str> {\n",
    "    // this does not create a new string - it returns\n",
    "    // a slice of the argument.\n",
    "    name.split('.').last()\n",
    "}\n",
    "\n",
    "fn main() {\n",
    "    let name = String::from(\"Read me. Or don't.txt\");\n",
    "    let ext = {\n",
    "        file_ext(&name).unwrap_or(\"\")\n",
    "    };\n",
    "    println!(\"extension: {:?}\", ext);\n",
    "}\n",
    "\n",
    "main();"
   ]
  },
  {
   "cell_type": "code",
   "execution_count": 11,
   "metadata": {},
   "outputs": [
    {
     "name": "stdout",
     "output_type": "stream",
     "text": [
      "Ok(\"🍉\")\n",
      "Err(Utf8Error { valid_up_to: 0, error_len: Some(1) })\n"
     ]
    }
   ],
   "source": [
    "fn main() {\n",
    "    let s = std::str::from_utf8(&[240, 159, 141, 137]);\n",
    "    println!(\"{:?}\", s);\n",
    "    // prints: Ok(\"🍉\")\n",
    "\n",
    "    let s = std::str::from_utf8(&[195, 40]);\n",
    "    println!(\"{:?}\", s);\n",
    "    // prints: Err(Utf8Error { valid_up_to: 0, error_len: Some(1) })\n",
    "}\n",
    "\n",
    "main();"
   ]
  },
  {
   "cell_type": "code",
   "execution_count": 13,
   "metadata": {},
   "outputs": [
    {
     "name": "stdout",
     "output_type": "stream",
     "text": [
      "\"🍉\"\n"
     ]
    },
    {
     "name": "stderr",
     "output_type": "stream",
     "text": [
      "thread '<unnamed>' panicked at src/lib.rs:13:45:\n",
      "called `Result::unwrap()` on an `Err` value: Utf8Error { valid_up_to: 0, error_len: Some(1) }\n",
      "stack backtrace:\n",
      "   0: _rust_begin_unwind\n",
      "   1: core::panicking::panic_fmt\n",
      "   2: core::result::unwrap_failed\n",
      "   3: ctx::main\n",
      "   4: _run_user_code_7\n",
      "   5: evcxr::runtime::Runtime::run_loop\n",
      "   6: evcxr::runtime::runtime_hook\n",
      "   7: evcxr_jupyter::main\n",
      "note: Some details are omitted, run with `RUST_BACKTRACE=full` for a verbose backtrace.\n"
     ]
    }
   ],
   "source": [
    "fn main() {\n",
    "    let s = std::str::from_utf8(&[240, 159, 141, 137]).unwrap();\n",
    "    println!(\"{:?}\", s);\n",
    "    // prints: \"🍉\"\n",
    "\n",
    "    let s = std::str::from_utf8(&[195, 40]).unwrap();\n",
    "    // prints: thread 'main' panicked at 'called `Result::unwrap()`\n",
    "    // on an `Err` value: Utf8Error { valid_up_to: 0, error_len: Some(1) }',\n",
    "    // src/libcore/result.rs:1165:5\n",
    "}\n",
    "\n",
    "main();"
   ]
  },
  {
   "cell_type": "code",
   "execution_count": 14,
   "metadata": {},
   "outputs": [
    {
     "name": "stderr",
     "output_type": "stream",
     "text": [
      "thread '<unnamed>' panicked at src/lib.rs:9:45:\n",
      "valid utf-8: Utf8Error { valid_up_to: 0, error_len: Some(1) }\n",
      "stack backtrace:\n",
      "   0: _rust_begin_unwind\n",
      "   1: core::panicking::panic_fmt\n",
      "   2: core::result::unwrap_failed\n",
      "   3: <unknown>\n",
      "   4: evcxr::runtime::Runtime::run_loop\n",
      "   5: evcxr::runtime::runtime_hook\n",
      "   6: evcxr_jupyter::main\n",
      "note: Some details are omitted, run with `RUST_BACKTRACE=full` for a verbose backtrace.\n"
     ]
    }
   ],
   "source": [
    "fn main() {\n",
    "    let s = std::str::from_utf8(&[195, 40]).expect(\"valid utf-8\");\n",
    "    // prints: thread 'main' panicked at 'valid utf-8: Utf8Error\n",
    "    // { valid_up_to: 0, error_len: Some(1) }', src/libcore/result.rs:1165:5\n",
    "}\n",
    "\n",
    "main();"
   ]
  },
  {
   "cell_type": "code",
   "execution_count": 18,
   "metadata": {},
   "outputs": [
    {
     "name": "stderr",
     "output_type": "stream",
     "text": [
      "thread '<unnamed>' panicked at src/lib.rs:12:19:\n",
      "invalid utf-8 sequence of 1 bytes from index 0\n",
      "stack backtrace:\n",
      "   0: _rust_begin_unwind\n",
      "   1: core::panicking::panic_fmt\n",
      "   2: <unknown>\n",
      "   3: <unknown>\n",
      "   4: <unknown>\n",
      "   5: <unknown>\n",
      "   6: evcxr::runtime::Runtime::run_loop\n",
      "   7: evcxr::runtime::runtime_hook\n",
      "   8: evcxr_jupyter::main\n",
      "note: Some details are omitted, run with `RUST_BACKTRACE=full` for a verbose backtrace.\n"
     ]
    }
   ],
   "source": [
    "fn main() {\n",
    "    // match std::str::from_utf8(&[240, 159, 141, 137]) {\n",
    "    match std::str::from_utf8(&[195, 40]) {\n",
    "        Ok(s) => println!(\"{}\", s),\n",
    "        Err(e) => panic!(\"{}\", e),\n",
    "    }\n",
    "    // prints 🍉\n",
    "    // prints: thread '<unnamed>' panicked at src/lib.rs:12:19: invalid utf-8 sequence of 1 bytes from index 0\n",
    "}\n",
    "\n",
    "main();"
   ]
  },
  {
   "cell_type": "code",
   "execution_count": 19,
   "metadata": {},
   "outputs": [
    {
     "name": "stdout",
     "output_type": "stream",
     "text": [
      "(1, 3)\n"
     ]
    }
   ],
   "source": [
    "struct Point {\n",
    "    x: f64,\n",
    "    y: f64,\n",
    "}\n",
    "\n",
    "fn main() {\n",
    "    let p = Point { x: 1.0, y: 3.0 };\n",
    "    let p_ref = &p;\n",
    "    println!(\"({}, {})\", p_ref.x, p_ref.y);\n",
    "}\n",
    "\n",
    "main();"
   ]
  },
  {
   "cell_type": "code",
   "execution_count": 6,
   "metadata": {},
   "outputs": [
    {
     "name": "stdout",
     "output_type": "stream",
     "text": [
      "(-1, -3)\n"
     ]
    }
   ],
   "source": [
    "// struct Point {\n",
    "//     x: f64,\n",
    "//     y: f64,\n",
    "// }\n",
    "\n",
    "// fn negate(p: Point) -> Point {\n",
    "//     Point {\n",
    "//         x: -p.x,\n",
    "//         y: -p.y,\n",
    "//     }\n",
    "// }\n",
    "\n",
    "// fn main() {\n",
    "//     let p = Point { x: 1.0, y: 3.0 };\n",
    "//     let p_ref = &p;\n",
    "//     negate(*p_ref);\n",
    "//     // error: cannot move out of `*p_ref` which is behind a shared reference\n",
    "// }\n",
    "\n",
    "// now `Point` is `Copy`\n",
    "#[derive(Clone, Copy)]\n",
    "struct Point {\n",
    "    x: f64,\n",
    "    y: f64,\n",
    "}\n",
    "\n",
    "fn negate(p: Point) -> Point {\n",
    "    Point {\n",
    "        x: -p.x,\n",
    "        y: -p.y,\n",
    "    }\n",
    "}\n",
    "\n",
    "fn main() {\n",
    "    let p = Point { x: 1.0, y: 3.0 };\n",
    "    let p_ref = &p;\n",
    "    let q = negate(*p_ref); // ...and now this works\n",
    "    println!(\"({}, {})\", q.x, q.y);\n",
    "}\n",
    "\n",
    "main();"
   ]
  },
  {
   "cell_type": "code",
   "execution_count": 7,
   "metadata": {},
   "outputs": [
    {
     "name": "stdout",
     "output_type": "stream",
     "text": [
      "Hello, Earth\n",
      "Hello, Mars\n",
      "Hello, Jupiter\n"
     ]
    }
   ],
   "source": [
    "fn for_each_planet<F>(f: F)\n",
    "    where F: Fn(&'static str)\n",
    "{\n",
    "    f(\"Earth\");\n",
    "    f(\"Mars\");\n",
    "    f(\"Jupiter\");\n",
    "}\n",
    " \n",
    "fn main() {\n",
    "    for_each_planet(|planet| println!(\"Hello, {}\", planet));\n",
    "}\n",
    "\n",
    "main();"
   ]
  },
  {
   "cell_type": "code",
   "execution_count": 8,
   "metadata": {},
   "outputs": [
    {
     "name": "stdout",
     "output_type": "stream",
     "text": [
      "Good to see you, Earth\n",
      "Good to see you, Mars\n",
      "Good to see you, Jupiter\n"
     ]
    }
   ],
   "source": [
    "fn for_each_planet<F>(f: F)\n",
    "    where F: Fn(&'static str)\n",
    "{\n",
    "    f(\"Earth\");\n",
    "    f(\"Mars\");\n",
    "    f(\"Jupiter\");\n",
    "}\n",
    " \n",
    "fn main() {\n",
    "    let greeting = String::from(\"Good to see you\");\n",
    "    for_each_planet(|planet| println!(\"{}, {}\", greeting, planet));\n",
    "    // our closure borrows `greeting`, so it cannot outlive it\n",
    "}\n",
    "\n",
    "main();"
   ]
  },
  {
   "cell_type": "code",
   "execution_count": 9,
   "metadata": {},
   "outputs": [
    {
     "name": "stdout",
     "output_type": "stream",
     "text": [
      "8\n"
     ]
    }
   ],
   "source": [
    "fn foobar<F>(f: F)\n",
    "    where F: Fn(i32) -> i32\n",
    "{\n",
    "    println!(\"{}\", f(f(2))); \n",
    "}\n",
    " \n",
    "fn main() {\n",
    "    foobar(|x| x * 2);\n",
    "}\n",
    "\n",
    "main();"
   ]
  },
  {
   "cell_type": "code",
   "execution_count": 10,
   "metadata": {},
   "outputs": [
    {
     "name": "stdout",
     "output_type": "stream",
     "text": [
      "24\n"
     ]
    }
   ],
   "source": [
    "fn foobar<F>(mut f: F)\n",
    "    where F: FnMut(i32) -> i32\n",
    "{\n",
    "    let tmp = f(2);\n",
    "    println!(\"{}\", f(tmp)); \n",
    "}\n",
    " \n",
    "fn main() {\n",
    "    let mut acc = 2;\n",
    "    foobar(|x| {\n",
    "        acc += 1;\n",
    "        x * acc\n",
    "    });\n",
    "}\n",
    "\n",
    "main();"
   ]
  },
  {
   "cell_type": "code",
   "execution_count": 12,
   "metadata": {},
   "outputs": [],
   "source": [
    "// fn foobar<F>(f: F)\n",
    "//     where F: Fn(i32) -> i32\n",
    "// {\n",
    "//     println!(\"{}\", f(f(2))); \n",
    "// }\n",
    " \n",
    "// fn main() {\n",
    "//     let mut acc = 2;\n",
    "//     foobar(|x| {\n",
    "//         acc += 1;\n",
    "//         // error: cannot assign to `acc`, as it is a\n",
    "//         // captured variable in a `Fn` closure.\n",
    "//         // the compiler suggests \"changing foobar\n",
    "//         // to accept closures that implement `FnMut`\"\n",
    "//         x * acc\n",
    "//     });\n",
    "// }"
   ]
  },
  {
   "cell_type": "code",
   "execution_count": 13,
   "metadata": {},
   "outputs": [
    {
     "name": "stdout",
     "output_type": "stream",
     "text": [
      "64 is greater than 32\n"
     ]
    }
   ],
   "source": [
    "fn foobar<F>(x: i32, y: i32, is_greater: F)\n",
    "    where F: Fn(i32, i32) -> bool\n",
    "{\n",
    "    let (greater, smaller) = if is_greater(x, y) {\n",
    "        (x, y)\n",
    "    } else {\n",
    "        (y, x)\n",
    "    };\n",
    "    println!(\"{} is greater than {}\", greater, smaller);\n",
    "}\n",
    " \n",
    "fn main() {\n",
    "    foobar(32, 64, |x, y| x > y);\n",
    "}\n",
    "\n",
    "main();"
   ]
  },
  {
   "cell_type": "code",
   "execution_count": 2,
   "metadata": {},
   "outputs": [
    {
     "name": "stdout",
     "output_type": "stream",
     "text": [
      "tick 3...\n",
      "tick 2...\n",
      "tick 1...\n"
     ]
    }
   ],
   "source": [
    "fn countdown<F>(count: usize, tick: F)\n",
    "    where F: Fn(usize)\n",
    "{\n",
    "    for i in (1..=count).rev() {\n",
    "        tick(i);\n",
    "    }\n",
    "}\n",
    " \n",
    "fn main() {\n",
    "    countdown(3, |i| println!(\"tick {}...\", i));\n",
    "}\n",
    "\n",
    "main();"
   ]
  },
  {
   "cell_type": "code",
   "execution_count": 3,
   "metadata": {},
   "outputs": [
    {
     "name": "stdout",
     "output_type": "stream",
     "text": [
      "The number at index 2 is 3\n"
     ]
    }
   ],
   "source": [
    "let numbers = [1, 2, 3, 4, 5];\n",
    "let index: usize = 2;\n",
    "println!(\"The number at index {} is {}\", index, numbers[index]);\n"
   ]
  },
  {
   "cell_type": "code",
   "execution_count": 4,
   "metadata": {},
   "outputs": [
    {
     "name": "stdout",
     "output_type": "stream",
     "text": [
      "Lift off!\n"
     ]
    }
   ],
   "source": [
    "fn countdown<F>(start: i32, mut f: F)\n",
    "    where F: FnMut(i32)\n",
    "{\n",
    "    for i in (1..=start).rev() {\n",
    "        f(i);\n",
    "    }\n",
    "    println!(\"Lift off!\");\n",
    "}\n",
    "\n",
    "fn main() {\n",
    "    countdown(3, |_| ());\n",
    "}\n",
    "\n",
    "main();"
   ]
  },
  {
   "cell_type": "markdown",
   "metadata": {},
   "source": [
    "Anything that is iterable can be used in a for in loop."
   ]
  },
  {
   "cell_type": "code",
   "execution_count": 2,
   "metadata": {},
   "outputs": [
    {
     "name": "stdout",
     "output_type": "stream",
     "text": [
      "I like the number 52\n"
     ]
    },
    {
     "name": "stdout",
     "output_type": "stream",
     "text": [
      "I like the number 49\n",
      "I like the number 21\n"
     ]
    }
   ],
   "source": [
    "fn main() {\n",
    "    for i in vec![52, 49, 21] {\n",
    "        println!(\"I like the number {}\", i);\n",
    "    }\n",
    "}\n",
    "\n",
    "main();"
   ]
  },
  {
   "cell_type": "code",
   "execution_count": 3,
   "metadata": {},
   "outputs": [
    {
     "name": "stdout",
     "output_type": "stream",
     "text": [
      "Give me a r\n"
     ]
    },
    {
     "name": "stdout",
     "output_type": "stream",
     "text": [
      "Give me a u\n",
      "Give me a s\n",
      "Give me a t\n"
     ]
    }
   ],
   "source": [
    "fn main() {\n",
    "    // note: `&str` also has a `.bytes()` iterator.\n",
    "    // Rust's `char` type is a \"Unicode scalar value\"\n",
    "    for c in \"rust\".chars() {\n",
    "        println!(\"Give me a {}\", c);\n",
    "    }\n",
    "}\n",
    "\n",
    "main();"
   ]
  },
  {
   "cell_type": "code",
   "execution_count": 4,
   "metadata": {},
   "outputs": [
    {
     "name": "stdout",
     "output_type": "stream",
     "text": [
      "I like the number 52\n",
      "I like the number 49\n",
      "I like the number 21\n"
     ]
    }
   ],
   "source": [
    "fn main() {\n",
    "    for i in &[52, 49, 21] {\n",
    "        println!(\"I like the number {}\", i);\n",
    "    }\n",
    "}\n",
    "\n",
    "main();"
   ]
  },
  {
   "cell_type": "code",
   "execution_count": 5,
   "metadata": {},
   "outputs": [
    {
     "name": "stdout",
     "output_type": "stream",
     "text": [
      "UB\n"
     ]
    }
   ],
   "source": [
    "fn main() {\n",
    "    for c in \"SuRPRISE INbOUND\"\n",
    "        .chars()\n",
    "        .filter(|c| c.is_lowercase())\n",
    "        .flat_map(|c| c.to_uppercase())\n",
    "    {\n",
    "        print!(\"{}\", c);\n",
    "    }\n",
    "    println!();\n",
    "}\n",
    "\n",
    "main();"
   ]
  },
  {
   "cell_type": "code",
   "execution_count": 6,
   "metadata": {},
   "outputs": [
    {
     "name": "stdout",
     "output_type": "stream",
     "text": [
      "false\n",
      "true\n"
     ]
    }
   ],
   "source": [
    "fn make_tester(answer: String) -> impl Fn(&str) -> bool {\n",
    "    move |challenge| {\n",
    "        challenge == answer\n",
    "    }\n",
    "}\n",
    "\n",
    "fn main() {\n",
    "    // you can use `.into()` to perform conversions\n",
    "    // between various types, here `&'static str` and `String`\n",
    "    let test = make_tester(\"hunter2\".into());\n",
    "    println!(\"{}\", test(\"******\"));\n",
    "    println!(\"{}\", test(\"hunter2\"));\n",
    "}\n",
    "\n",
    "main();"
   ]
  }
 ],
 "metadata": {
  "kernelspec": {
   "display_name": "Rust",
   "language": "rust",
   "name": "rust"
  },
  "language_info": {
   "codemirror_mode": "rust",
   "file_extension": ".rs",
   "mimetype": "text/rust",
   "name": "rust",
   "pygment_lexer": "rust",
   "version": ""
  }
 },
 "nbformat": 4,
 "nbformat_minor": 2
}
