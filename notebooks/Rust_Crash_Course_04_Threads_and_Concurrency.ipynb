{
 "cells": [
  {
   "cell_type": "markdown",
   "metadata": {},
   "source": [
    "# Rust Crash Course - 04 - Threads and Concurrency\n",
    "\n",
    "One of the main goals of Rust is *fearless concurrency*.\n",
    "\n",
    "In the following, the usage of threads and related concurrency concepts in Rust are explained.\n",
    "\n",
    "The contents are mainly based on the Rust Book by Steve Klabnik and Carol Nichols: https://doc.rust-lang.org/book/"
   ]
  },
  {
   "cell_type": "markdown",
   "metadata": {},
   "source": [
    "## Threads\n",
    "\n",
    "Rust allows one to create a new operating system thread by calling ``thread::spawn()`` from ``std::thread``."
   ]
  },
  {
   "cell_type": "code",
   "execution_count": null,
   "metadata": {},
   "outputs": [],
   "source": [
    "use std::thread;"
   ]
  },
  {
   "cell_type": "markdown",
   "metadata": {},
   "source": [
    "In order to allow the execution of other threads, a thread can be put into sleep by calling ``thread::sleep()`` with a duration from ``std::time::Duration``."
   ]
  },
  {
   "cell_type": "code",
   "execution_count": null,
   "metadata": {},
   "outputs": [],
   "source": [
    "use std::time::Duration;"
   ]
  },
  {
   "cell_type": "markdown",
   "metadata": {},
   "source": [
    "The code handed to the thread is called a *closure*.\n",
    "\n",
    "Note that there is a call to ``thread::sleep()`` at the end of the following example so that the program waits for all threads to finish."
   ]
  },
  {
   "cell_type": "code",
   "execution_count": null,
   "metadata": {},
   "outputs": [],
   "source": [
    "fn thread_or_main_thread() {\n",
    "    \n",
    "    // start new thread that executes a loop\n",
    "    thread::spawn(|| {\n",
    "        for i in 1..10 {\n",
    "            println!(\"THREAD OUTPUT: {}\", i);\n",
    "            thread::sleep(Duration::from_millis(1));   // sleep and allow execution of other threads\n",
    "        }\n",
    "    });\n",
    "\n",
    "    // execute a loop in main thread\n",
    "    for i in 1..5 {\n",
    "        println!(\"MAIN OUTPUT: {}\", i);\n",
    "        thread::sleep(Duration::from_millis(1));       // sleep and allow execution of other threads\n",
    "    }\n",
    "}\n",
    "\n",
    "thread_or_main_thread();\n",
    "println!(\"Function execution finished ...\");\n",
    "\n",
    "thread::sleep(Duration::from_millis(100));             // wait for threads to finish (function does not wait)"
   ]
  },
  {
   "cell_type": "markdown",
   "metadata": {},
   "source": [
    "However, waiting for threads to finish with the ``thread::sleep()`` function is not the most reasonable way.\n",
    "\n",
    "The result of a thread is a ``JoinHandle<T>`` that might contain a return value from a thread of type ``T`` and can be joined after the thread has finished execution. This is a better way to wait for unfinished threads and ``unwrap()`` is used for trivial error handling."
   ]
  },
  {
   "cell_type": "code",
   "execution_count": null,
   "metadata": {},
   "outputs": [],
   "source": [
    "fn thread_or_main_thread_join() {\n",
    "    \n",
    "    // start new thread that executes a loop\n",
    "    let handle = thread::spawn(|| {\n",
    "        for i in 1..10 {\n",
    "            println!(\"THREAD OUTPUT: {}\", i);\n",
    "            thread::sleep(Duration::from_millis(1));   // sleep and allow execution of other threads\n",
    "        }\n",
    "    });\n",
    "\n",
    "    // execute a loop in main thread\n",
    "    for i in 1..5 {\n",
    "        println!(\"MAIN OUTPUT: {}\", i);\n",
    "        thread::sleep(Duration::from_millis(1));       // sleep and allow execution of other threads\n",
    "    }\n",
    "    \n",
    "    handle.join().unwrap();                            // wait for thread result to join\n",
    "}\n",
    "\n",
    "thread_or_main_thread_join();\n",
    "println!(\"Function execution finished ...\");"
   ]
  },
  {
   "cell_type": "markdown",
   "metadata": {},
   "source": [
    "Often, threads need to process data from the calling thread. However, Rust cannot infer if the thread lives longer or shorter than the main thread. Therefore, data has to be moved into the new thread by using the ``move`` keyword with ``thread::spawn()``.\n",
    "\n",
    "Try to remove ``move`` and see what happens."
   ]
  },
  {
   "cell_type": "code",
   "execution_count": null,
   "metadata": {},
   "outputs": [],
   "source": [
    "fn thread_move() {\n",
    "    \n",
    "    let primes: [i32; 8] = [2, 3, 5, 7, 11, 13, 17, 19];   // data from main thread\n",
    "    \n",
    "    let handle = thread::spawn(move || {                   // defines that required data is moved into thread\n",
    "        for i in 0..8 {\n",
    "            println!(\"THREAD OUTPUT: {}\", primes[i]);\n",
    "            thread::sleep(Duration::from_millis(1));       // sleep and allow execution of other threads\n",
    "        }\n",
    "    });\n",
    "\n",
    "    for i in 0..8 {\n",
    "        println!(\"MAIN OUTPUT: {}\", primes[i]);\n",
    "        thread::sleep(Duration::from_millis(1));           // sleep and allow execution of other threads\n",
    "    }\n",
    "    \n",
    "    handle.join().unwrap();\n",
    "}\n",
    "\n",
    "thread_move();\n",
    "println!(\"Function execution finished ...\");"
   ]
  },
  {
   "cell_type": "markdown",
   "metadata": {},
   "source": [
    "## Mutual Exclusion for Shared Data with ``Mutex<T>``\n",
    "\n",
    "A common scenario in concurrent computations is the sharing of mutable variables. In many programming languages, this is handled by the concept of a *mutex*, a mutually exclusive access to shared data.\n",
    "\n",
    "In Rust, a mutex can be instantiated by calling ``Mutex::new()`` from ``std::sync::Mutex``.\n",
    "\n",
    "For detailed information, see https://doc.rust-lang.org/std/sync/struct.Mutex.html."
   ]
  },
  {
   "cell_type": "code",
   "execution_count": null,
   "metadata": {},
   "outputs": [],
   "source": [
    "use std::sync::Mutex;"
   ]
  },
  {
   "cell_type": "markdown",
   "metadata": {},
   "source": [
    "In order to lock the mutex, one has to call ``lock()``. The succeeding ``unwrap()`` handles a possible error situation and is not in focus here.\n",
    "\n",
    "If the lock can be acquired, one can access the variable behind the mutex by dereferencing with ``*``.\n",
    "\n",
    "After leaving the scope, e.g. a function, the mutex is unlocked automatically."
   ]
  },
  {
   "cell_type": "code",
   "execution_count": null,
   "metadata": {},
   "outputs": [],
   "source": [
    "fn print_mutex(mtx: &Mutex<u32>) {\n",
    "    println!(\"MUTEX DEBUG:   {:?}\", mtx);\n",
    "}\n",
    "\n",
    "fn zero_mutex(mtx: &Mutex<u32>) {\n",
    "    let mut n = mtx.lock().unwrap();       // mutex lock is aquired\n",
    "    *n = 0;                                // dereferencing allows access to mutex variable\n",
    "}                                          // mutex is unlocked automatically after n leaves scope\n",
    "\n",
    "let m = Mutex::new(5);\n",
    "\n",
    "print_mutex(&m);\n",
    "zero_mutex(&m);\n",
    "print_mutex(&m);"
   ]
  },
  {
   "cell_type": "markdown",
   "metadata": {},
   "source": [
    "## Sharing Data by Reference Counting with ``Rc<T>``\n",
    "\n",
    "The smart pointer ``Rc<T>`` from ``std::rc::Rc`` enables sharing data in single-threaded cases and counting the created references on the shared data.\n",
    "\n",
    "For details, see https://doc.rust-lang.org/std/rc/struct.Rc.html."
   ]
  },
  {
   "cell_type": "code",
   "execution_count": null,
   "metadata": {},
   "outputs": [],
   "source": [
    "use std::rc::Rc;\n",
    "\n",
    "struct DayString {\n",
    "    prefix: String,\n",
    "    day: Rc<String>,\n",
    "}\n",
    "\n",
    "let day_str = String::from(\"day\");                  // create data on the heap\n",
    "let day_str_rc: Rc<String> = Rc::new(day_str);      // create reference counter for that data\n",
    "\n",
    "println!(\"Rc count = {} (after creation)\", Rc::strong_count(&day_str_rc));\n",
    "\n",
    "{ \n",
    "    let monday_str = DayString { prefix: String::from(\"mon\"), day: Rc::clone(&day_str_rc) };\n",
    "    println!(\"Monday String: {}{}\", monday_str.prefix, monday_str.day);\n",
    "    println!(\"Rc count = {} (after monday clone)\", Rc::strong_count(&day_str_rc));\n",
    "\n",
    "    let tuesday_str = DayString { prefix: String::from(\"tues\"), day: Rc::clone(&day_str_rc) };\n",
    "    println!(\"Tuesday String: {}{}\", tuesday_str.prefix, tuesday_str.day);\n",
    "    println!(\"Rc count = {} (after tuesday clone)\", Rc::strong_count(&day_str_rc));\n",
    "\n",
    "    {\n",
    "        let wednesday_str = DayString { prefix: String::from(\"wednes\"), day: Rc::clone(&day_str_rc) };\n",
    "        println!(\"Wednesday String: {}{}\", wednesday_str.prefix, wednesday_str.day);\n",
    "        println!(\"Rc count = {} (after wednesday clone)\", Rc::strong_count(&day_str_rc));\n",
    "    };\n",
    "    \n",
    "    println!(\"Rc count = {} (after wednesday clone left scope)\", Rc::strong_count(&day_str_rc));\n",
    "};\n",
    "\n",
    "println!(\"Rc count = {} (after all clones left scope)\", Rc::strong_count(&day_str_rc));"
   ]
  },
  {
   "cell_type": "markdown",
   "metadata": {},
   "source": [
    "## Atomic Reference Counting with ``Arc<T>``\n",
    "\n",
    "Although ``Rc<T>`` enables managing multiple references on shared data, it is not safe to use it in multi-threaded scenarios, because it does not implement protection measures for counting up and down references. Therefore, this might lead to wrong counts. If you would try to do so, the Rust compiler will tell you that this is not allowed.\n",
    "\n",
    "However, there is the thread-safe primitive ``Arc<T>`` from ``std::sync::Arc``. While its functionality is more expensive in terms of overhead, it uses safe atomic operations for reference counting.\n",
    "\n",
    "See https://doc.rust-lang.org/std/sync/struct.Arc.html, for details."
   ]
  },
  {
   "cell_type": "code",
   "execution_count": null,
   "metadata": {},
   "outputs": [],
   "source": [
    "use std::sync::Arc;\n",
    "\n",
    "fn count_with_threads() {\n",
    "    \n",
    "    let cntr = Arc::new(Mutex::new(0));                // create atomic reference counter for mutex on counter\n",
    "    let mut handle_vec = vec![];                       // vector to collect all thread handles\n",
    "\n",
    "    for _ in 0..42 {                                   // _ represents a not used (loop) variable\n",
    "        let cntr_thread = Arc::clone(&cntr);           // clones mutex on counter\n",
    "        let handle = thread::spawn(move || {           // creates new threads\n",
    "            let mut n = cntr_thread.lock().unwrap();   // get lock on counter value\n",
    "            *n += 1;                                   // increase counter value\n",
    "        });\n",
    "        handle_vec.push(handle);                       // push thread handle to handle vector\n",
    "    }\n",
    "\n",
    "    for handle in handle_vec {                         // wait for all threads to finish\n",
    "        handle.join().unwrap();\n",
    "    }\n",
    "\n",
    "    println!(\"Counter Value: {}\", *cntr.lock().unwrap());\n",
    "}\n",
    "\n",
    "count_with_threads();"
   ]
  },
  {
   "cell_type": "markdown",
   "metadata": {},
   "source": [
    "## Exercise\n",
    "\n",
    "The following exercise may help to practice the obtained knowledge."
   ]
  },
  {
   "cell_type": "markdown",
   "metadata": {},
   "source": [
    "### Multi-Threaded Average Computation\n",
    "\n",
    "Extend the given function in a way that it takes the three measured time series and spawns 32 threads to compute the 32 average values of all three time series, resulting in an average time series."
   ]
  },
  {
   "cell_type": "code",
   "execution_count": null,
   "metadata": {},
   "outputs": [],
   "source": [
    "fn average_with_threads() {\n",
    "\n",
    "    let time_series_1 = vec![0.3746159125, 0.2361180109, 0.3378222126, 0.3889137705,\n",
    "                             0.7939929678, 0.8965447566, 0.0025118861, 0.6385968099,\n",
    "                             0.8674781412, 0.6601930348, 0.9572774544, 0.9381198140,\n",
    "                             0.3056447072, 0.2665908600, 0.0133173369, 0.8197983090,\n",
    "                             0.7433749131, 0.0439387530, 0.6669699395, 0.9390223500,\n",
    "                             0.4035295925, 0.8354899994, 0.2600206713, 0.8082156640,\n",
    "                             0.0838627935, 0.8768263590, 0.5783809980, 0.6945670911,\n",
    "                             0.5793987002, 0.8084666539, 0.8561550624, 0.9307076209];\n",
    "\n",
    "    let time_series_2 = vec![0.0189625067, 0.2439122623, 0.0438636327, 0.7645780703,\n",
    "                             0.7963895690, 0.5217134415, 0.7228504208, 0.1318460353,\n",
    "                             0.6853588089, 0.4007476913, 0.6026601135, 0.1334964979,\n",
    "                             0.4791455524, 0.7088239179, 0.2397349057, 0.7939479349,\n",
    "                             0.1995520750, 0.6500906015, 0.8553767667, 0.2266357112,\n",
    "                             0.9149782985, 0.9970827177, 0.4288467251, 0.2903316867,\n",
    "                             0.5334403306, 0.0004823761, 0.1138787079, 0.8923116925,\n",
    "                             0.1291085839, 0.9031569160, 0.4396658674, 0.0958836336];\n",
    "    \n",
    "    let time_series_3 = vec![0.8141894986, 0.1330894087, 0.0913975503, 0.8819964392,\n",
    "                             0.6968876854, 0.8336690037, 0.5928581439, 0.5477573420,\n",
    "                             0.5994034220, 0.6489357528, 0.6719878308, 0.5026737468,\n",
    "                             0.2456916874, 0.0245392908, 0.6129218998, 0.7244434205,\n",
    "                             0.5609155413, 0.9067474801, 0.1528659589, 0.2726414966,\n",
    "                             0.2081765468, 0.7501682686, 0.2350835574, 0.2784958920,\n",
    "                             0.1980785938, 0.7129439713, 0.6218828190, 0.7592176281,\n",
    "                             0.1686769254, 0.0147286985, 0.8693620120, 0.9322303511];\n",
    "\n",
    "    let mut time_series_avg: Vec<f64> = Vec::new();\n",
    "    time_series_avg.resize(time_series_1.len(), 0.0);\n",
    "\n",
    "    // TODO\n",
    "    \n",
    "    let mut handle_vec = vec![];\n",
    "\n",
    "    // loop through 32 threads\n",
    "    for i in 0..32 {\n",
    "\n",
    "        // TODO\n",
    "\n",
    "        // spawn threads\n",
    "        let handle = thread::spawn(move || {\n",
    "\n",
    "            // TODO\n",
    "\n",
    "            println!(\"THREAD {:02}: DONE!\", i);\n",
    "        });\n",
    "\n",
    "        handle_vec.push(handle);\n",
    "    }\n",
    "\n",
    "    // join handles\n",
    "    for handle in handle_vec {\n",
    "        handle.join().unwrap();\n",
    "    }\n",
    "\n",
    "    // output averaged time series\n",
    "\n",
    "    // TODO\n",
    "\n",
    "    println!(\"Time Series Average:\");\n",
    "    for i in 0..8 {\n",
    "        println!(\"{:.10}, {:.10}, {:.10}, {:.10}\",\n",
    "                 // TODO\n",
    "                )\n",
    "    }\n",
    "\n",
    "}\n",
    "\n",
    "average_with_threads();\n",
    "\n",
    "// ### Correct Output ###\n",
    "//\n",
    "// Time Series Average:\n",
    "// 0.4025893059, 0.2043732273, 0.1576944652, 0.6784960933\n",
    "// 0.7624234074, 0.7506424006, 0.4394068169, 0.4394000624\n",
    "// 0.7174134574, 0.5699588263, 0.7439751329, 0.5247633529\n",
    "// 0.3434939823, 0.3333180229, 0.2886580475, 0.7793965548\n",
    "// 0.5012808431, 0.5335922782, 0.5584042217, 0.4794331859\n",
    "// 0.5088948126, 0.8609136619, 0.3079836513, 0.4590144142\n",
    "// 0.2717939060, 0.5300842355, 0.4380475083, 0.7820321372\n",
    "// 0.2923947365, 0.5754507561, 0.7217276473, 0.6529405352"
   ]
  },
  {
   "cell_type": "code",
   "execution_count": null,
   "metadata": {},
   "outputs": [],
   "source": []
  }
 ],
 "metadata": {
  "kernelspec": {
   "display_name": "Rust",
   "language": "rust",
   "name": "rust"
  },
  "language_info": {
   "codemirror_mode": "rust",
   "file_extension": ".rs",
   "mimetype": "text/rust",
   "name": "Rust",
   "pygment_lexer": "rust",
   "version": ""
  }
 },
 "nbformat": 4,
 "nbformat_minor": 2
}
