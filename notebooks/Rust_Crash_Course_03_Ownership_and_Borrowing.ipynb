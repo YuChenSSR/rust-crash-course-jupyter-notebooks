{
 "cells": [
  {
   "cell_type": "markdown",
   "metadata": {},
   "source": [
    "# Rust Crash Course - 03 - Ownership and Borrowing\n",
    "\n",
    "The central concept of Rust is called *Ownership*. It enables memory safety at compile time without requiring a garbage collector.\n",
    "\n",
    "In the following, ownership, borrowing, and related structures are explained.\n",
    "\n",
    "The contents represent a brief and compact introduction to the topic, inspired by the [Rust Book](https://doc.rust-lang.org/book/), the [Rust Reference](https://doc.rust-lang.org/reference/), and [Rust By Example](https://doc.rust-lang.org/rust-by-example/)."
   ]
  },
  {
   "cell_type": "markdown",
   "metadata": {},
   "source": [
    "## Heap-Allocated Data\n",
    "\n",
    "Ownership is important for scalar types, but becomes even more important for data types that allocate memory on the heap. Therefore, in the subsequent cells, new heap-based data types are introduced. Such data types are also called *smart pointers*, because they point at data on the heap and usually carry some additional meta information."
   ]
  },
  {
   "cell_type": "markdown",
   "metadata": {},
   "source": [
    "### ``Box<T>``\n",
    "\n",
    "The ``Box`` type allocates memory on the heap and places a variable into it.\n",
    "\n",
    "The value can be accessed by dereferencing with a preceding ``*``.\n",
    "\n",
    "For details see https://doc.rust-lang.org/std/boxed/struct.Box.html."
   ]
  },
  {
   "cell_type": "code",
   "execution_count": null,
   "metadata": {},
   "outputs": [],
   "source": [
    "let ints: [u64; 8] = [1, 2, 3, 4, 5, 6, 7, 8];\n",
    "let heap_ints = Box::new(ints);\n",
    "let stack_ints = *heap_ints;    // copy of heap_ints on the stack\n",
    "\n",
    "println!(\"ints               = {:?} and uses {} byte(s) on the stack!\",\n",
    "    ints, std::mem::size_of_val(&ints));\n",
    "println!(\"heap_ints          = {:?} and uses {} byte(s) on the stack!\",\n",
    "    heap_ints, std::mem::size_of_val(&heap_ints));\n",
    "println!(\"stack_ints         = {:?} and uses {} byte(s) on the stack!\",\n",
    "    stack_ints, std::mem::size_of_val(&stack_ints));\n",
    "\n",
    "let heap_ints_oneliner: Box<[u64; 8]> = Box::new([9, 8, 7, 6, 5, 4, 3, 2]);\n",
    "\n",
    "println!(\"heap_ints_oneliner = {:?} and uses {} byte(s) on the stack!\",\n",
    "    heap_ints_oneliner, std::mem::size_of_val(&heap_ints_oneliner));"
   ]
  },
  {
   "cell_type": "markdown",
   "metadata": {},
   "source": [
    "### ``Vec<T>``\n",
    "\n",
    "The vector type ``Vec`` is a growable array type that allocates memory on the heap.\n",
    "\n",
    "For details see https://doc.rust-lang.org/std/vec/struct.Vec.html."
   ]
  },
  {
   "cell_type": "code",
   "execution_count": null,
   "metadata": {},
   "outputs": [],
   "source": [
    "let mut vector_for_floats: Vec<f64> = Vec::new();\n",
    "vector_for_floats.push(3.17);\n",
    "vector_for_floats.push(3.23);\n",
    "vector_for_floats.push(3.76);\n",
    "vector_for_floats.push(3.51);\n",
    "vector_for_floats.push(3.32);\n",
    "\n",
    "for f in &vector_for_floats {            // \"for .. in ..\" enables iterating over vector\n",
    "    println!(\"{}\", f);\n",
    "};\n",
    "\n",
    "println!(\"vector_for_floats uses {} byte(s) on the stack!\", std::mem::size_of_val(&vector_for_floats));"
   ]
  },
  {
   "cell_type": "markdown",
   "metadata": {},
   "source": [
    "The macro ``vec!`` can be used to initialize vectors in a short, convenient way."
   ]
  },
  {
   "cell_type": "code",
   "execution_count": null,
   "metadata": {},
   "outputs": [],
   "source": [
    "let v_int = vec![0, 1, 2, 3];\n",
    "\n",
    "println!(\"v_int[2] = {}\", v_int[2]);\n",
    "\n",
    "println!(\"v_int uses {} byte(s) on the stack!\", std::mem::size_of_val(&v_int));"
   ]
  },
  {
   "cell_type": "markdown",
   "metadata": {},
   "source": [
    "### ``String``\n",
    "\n",
    "A ``String`` variable consists of two parts:\n",
    "- on the heap: raw string data (dynamically allocated as needed)\n",
    "- on the stack: pointer to string data on heap, length of current string, whole capacity of string\n",
    "\n",
    "On a byte level, a ``String`` variable is UTF-8 encoded, i.e. individual characters may be represented by 1 to 4 bytes.\n",
    "\n",
    "The type ``str`` is closely related to ``String``. It is called a 'string slice' and is usually used in its borrowed form, ``&str``.\n",
    "\n",
    "For details see https://doc.rust-lang.org/std/string/struct.String.html and https://doc.rust-lang.org/std/primitive.str.html."
   ]
  },
  {
   "cell_type": "code",
   "execution_count": null,
   "metadata": {},
   "outputs": [],
   "source": [
    "let mut string_var = String::from(\"This is\");\n",
    "string_var.push(' ');           // append single character\n",
    "let ok_str = \"OK\";              // implicit type: &'static str\n",
    "string_var.push_str(ok_str);    // append string slice\n",
    "string_var.push_str(\"! \");      // append string literal\n",
    "string_var.push('👍');\n",
    "\n",
    "let string_str = string_var.clone();\n",
    "\n",
    "println!(\"string_var          = \\'{}\\' and uses {} byte(s) on the stack! (further, the raw data is on the heap)\",\n",
    "    string_var, std::mem::size_of_val(&string_var));\n",
    "println!(\"string_str.as_str() = \\'{}\\' and uses {} byte(s) on the stack! (because it is a static string slice)\",\n",
    "    string_str.as_str(), std::mem::size_of_val(string_str.as_str()));"
   ]
  },
  {
   "cell_type": "markdown",
   "metadata": {},
   "source": [
    "## Ownership\n",
    "\n",
    "Ownership manages memory and other resources while maintaining certain guarantees.\n",
    "\n",
    "There are three important rules:\n",
    "- each value in Rust has a variable that’s called its owner\n",
    "- there can only be one owner at a time\n",
    "- when the owner goes out of scope, the value will be dropped\n",
    "\n",
    "There are some common cases that are relevant for ownership transfers:\n",
    "- assignments\n",
    "- function arguments and return values\n",
    "\n",
    "The following so-called traits handle ownership transfer in Rust:\n",
    "- ``Move``: stack data is copied, heap data is not; previous reference on heap data becomes invalid\n",
    "- ``Clone``: a ''deep''/full copy of stack and heap data is created\n",
    "- ``Copy``: similar to cloning, but only valid for scalar data types and simple groups thereof"
   ]
  },
  {
   "cell_type": "markdown",
   "metadata": {},
   "source": [
    "### Assignments\n",
    "\n",
    "When values of scalar data types or simple groups thereof are assigned, the ``Copy`` trait is called."
   ]
  },
  {
   "cell_type": "code",
   "execution_count": null,
   "metadata": {},
   "outputs": [],
   "source": [
    "let mut x = 1;\n",
    "let mut y = x;              // value of scalar data type is copied\n",
    "\n",
    "println!(\"x = {}\", x);      // works as intended\n",
    "println!(\"y = {}\", y);      // works as intended"
   ]
  },
  {
   "cell_type": "markdown",
   "metadata": {},
   "source": [
    "However, if one assigns a more complex data type like ``String`` to another variable, the behavior is different.\n",
    "\n",
    "The following example shows the assignment of ``s1`` to ``s2``. After that operation, ``s2`` owns the corresponding string and ``s1`` looses ownership, i.e. becomes invalid, because the ``Move`` trait is called."
   ]
  },
  {
   "cell_type": "code",
   "execution_count": null,
   "metadata": {},
   "outputs": [],
   "source": [
    "let s1 = String::from(\"Try this!\");\n",
    "let s2 = s1;\n",
    "\n",
    "println!(\"s1 = {}\", s1);              // leads to compiler error, because s1 is not valid anymore\n",
    "println!(\"s2 = {}\", s2);"
   ]
  },
  {
   "cell_type": "markdown",
   "metadata": {},
   "source": [
    "If one explicitly aims at performing a deep copy of a ``String`` variable, one has to call the ``clone()`` method."
   ]
  },
  {
   "cell_type": "code",
   "execution_count": null,
   "metadata": {},
   "outputs": [],
   "source": [
    "let s1 = String::from(\"Try this!\");\n",
    "let s2 = s1.clone();                  // deep copy is created\n",
    "\n",
    "println!(\"s1 = {}\", s1);              // works as intended\n",
    "println!(\"s2 = {}\", s2);              // works as intended"
   ]
  },
  {
   "cell_type": "markdown",
   "metadata": {},
   "source": [
    "### Scope\n",
    "\n",
    "Everytime a variable goes out of scope, Rust automatically calls the ``drop()`` function that releases ownership and returns the allocated memory to the operating system. One way to define a scope is by ``{`` and ``}``."
   ]
  },
  {
   "cell_type": "code",
   "execution_count": null,
   "metadata": {},
   "outputs": [],
   "source": [
    "let mut x = 1;\n",
    "\n",
    "let y = {                   // new scope\n",
    "    \n",
    "    let mut n = 127;        // n is valid from here\n",
    "    \n",
    "    n = (n + x) * 2;        // use n and x\n",
    "    \n",
    "    n                       // return value of n (and transfer ownership to y)\n",
    "    \n",
    "};                          // scope is over, n is not valid any longer\n",
    "\n",
    "println!(\"n = {}\", n);      // leads to compiler error, because n is not valid anymore\n",
    "\n",
    "{                           // new scope\n",
    "\n",
    "    let mut z = 42;         // z is valid from here\n",
    "    \n",
    "    z = z + 5;              // use z ...\n",
    "    \n",
    "    x = 17;                 // x can be used, too\n",
    "    \n",
    "};                          // semicolons in Rust suppress return value of expressions\n",
    "\n",
    "println!(\"x = {}\", x);      // works as intended, because x is in scope\n",
    "println!(\"y = {}\", y);      // works as intended, because y got ownership of n\n",
    "println!(\"z = {}\", z);      // leads to compiler error, because z is not valid anymore"
   ]
  },
  {
   "cell_type": "markdown",
   "metadata": {},
   "source": [
    "This is also true for more complex data types, like ``String``."
   ]
  },
  {
   "cell_type": "code",
   "execution_count": null,
   "metadata": {},
   "outputs": [],
   "source": [
    "{\n",
    "\n",
    "    let mut my_str = String::from(\"Good\");  // the String data type might grow --> heap memory necessary\n",
    "\n",
    "    my_str.push_str(\" Morning!\");           // push_str() appends a literal to a String variable\n",
    "\n",
    "    println!(\"{}\", my_str);                 // prints my_str\n",
    "\n",
    "};                                          // my_str is dropped\n",
    "\n",
    "println!(\"Again: {}\", my_str);              // leads to compiler error, because my_str is not valid anymore"
   ]
  },
  {
   "cell_type": "markdown",
   "metadata": {},
   "source": [
    "In some cases, one might want to return memory even before the end of scope. That can be achieved by explicitly calling ``drop()``."
   ]
  },
  {
   "cell_type": "code",
   "execution_count": null,
   "metadata": {},
   "outputs": [],
   "source": [
    "let mut my_next_str = String::from(\"Good\");\n",
    "my_next_str.push_str(\" Evening!\");\n",
    "\n",
    "println!(\"{}\", my_next_str);\n",
    "\n",
    "drop(my_next_str);                           // variable my_next_str is dropped at this point\n",
    "\n",
    "println!(\"Again: {}\", my_next_str);          // leads to compiler error, because my_next_str is not valid anymore"
   ]
  },
  {
   "cell_type": "markdown",
   "metadata": {},
   "source": [
    "### Function Arguments and Return Values\n",
    "\n",
    "The following example illustrates that a variable of type ``String`` that has been moved into the scope of a function is dropped after leaving the function's scope."
   ]
  },
  {
   "cell_type": "code",
   "execution_count": null,
   "metadata": {},
   "outputs": [],
   "source": [
    "fn get_string_and_drop(a_str: String) {\n",
    "    println!(\"{} Night!\", a_str);\n",
    "}                                        // ownership of a_str is dropped at this point\n",
    "\n",
    "let mut xyz_str = String::from(\"Good\");\n",
    "\n",
    "get_string_and_drop(xyz_str);            // xyz_str is moved to function and dropped after processing\n",
    "\n",
    "println!(\"xyz_str = {}\", xyz_str);       // leads to compiler error, because xyz_str is not valid anymore"
   ]
  },
  {
   "cell_type": "markdown",
   "metadata": {},
   "source": [
    "On the other hand, returning a value from a function will transfer ownership to the calling scope."
   ]
  },
  {
   "cell_type": "code",
   "execution_count": null,
   "metadata": {},
   "outputs": [],
   "source": [
    "fn give_abc() -> String {             \n",
    "    let abc_str = String::from(\"abc\");\n",
    "    abc_str                                   // value of abc_str and ownership is returned to caller\n",
    "}\n",
    "\n",
    "let received_abc = give_abc();                // received_abc takes ownership\n",
    "\n",
    "println!(\"Return Value: {}\", received_abc);"
   ]
  },
  {
   "cell_type": "markdown",
   "metadata": {},
   "source": [
    "## Borrowing\n",
    "\n",
    "Moving ownership in and back out of functions can be cumbersome. Hence, Rust implements a concept called *Borrowing*: Ownership can be temporarily borrowed from a value's owner by using references.\n",
    "\n",
    "There are two things to consider when working with references:\n",
    "- At any given time, you can have either *one mutable reference* or *any number of immutable references*.\n",
    "- References must always be valid."
   ]
  },
  {
   "cell_type": "markdown",
   "metadata": {},
   "source": [
    "### Immutable References\n",
    "\n",
    "The syntax ``&`` creates immutable references."
   ]
  },
  {
   "cell_type": "code",
   "execution_count": null,
   "metadata": {},
   "outputs": [],
   "source": [
    "fn get_len(s: &String) -> usize {\n",
    "    s.len()\n",
    "}\n",
    "\n",
    "let str_1 = String::from(\"Wonderful Day!\");\n",
    "\n",
    "let len = get_len(&str_1);                            // immutable reference to str_1\n",
    "\n",
    "println!(\"The length of '{}' is {}.\", str_1, len);"
   ]
  },
  {
   "cell_type": "markdown",
   "metadata": {},
   "source": [
    "### Mutable References\n",
    "\n",
    "Mutable references can be created by using ``&mut``."
   ]
  },
  {
   "cell_type": "code",
   "execution_count": null,
   "metadata": {},
   "outputs": [],
   "source": [
    "fn append_year(s: &mut String) {\n",
    "    s.push_str(\"2020\");\n",
    "}\n",
    "\n",
    "let mut str_2 = String::from(\"Wonderful Year: \");\n",
    "\n",
    "append_year(&mut str_2);                             // mutable reference to str_2\n",
    "\n",
    "println!(\"New String: \\'{}\\'\", str_2);"
   ]
  },
  {
   "cell_type": "markdown",
   "metadata": {},
   "source": [
    "### Dangling References (Pointers)\n",
    "\n",
    "In contrast to some other languages, e.g. C, the Rust compiler will not let you create dangling, invalid references."
   ]
  },
  {
   "cell_type": "code",
   "execution_count": null,
   "metadata": {},
   "outputs": [],
   "source": [
    "fn get_dangling_ref() -> String {\n",
    "    let s = String::from(\"Test String!\");\n",
    "    &s\n",
    "}                                            // s is dropped here\n",
    "\n",
    "let dangling_ref = get_dangling_ref();       // leads to compiler error, because &s is not valid anymore\n",
    "\n",
    "println!(\"String behind dangling reference: {}\", dangling_ref);"
   ]
  },
  {
   "cell_type": "markdown",
   "metadata": {},
   "source": [
    "### Slices\n",
    "\n",
    "Slices are immutable references to a part of a collection.\n",
    "\n",
    "Note the range syntax ``<start-element-inclusive>..<end-element-exclusive>``, where one or both limits can be omitted."
   ]
  },
  {
   "cell_type": "markdown",
   "metadata": {},
   "source": [
    "This can be especially usefull when accessing parts of a ``String`` variable, for example."
   ]
  },
  {
   "cell_type": "code",
   "execution_count": null,
   "metadata": {},
   "outputs": [],
   "source": [
    "fn print_alphabet_parts() {\n",
    "    \n",
    "    let alphabet = String::from(\"ABCDEFGHIJKLMNOPQRSTUVWXYZ\");\n",
    "\n",
    "    let abc_str = &alphabet[..3];\n",
    "    let def_str = &alphabet[3..6];\n",
    "    let xyz_str = &alphabet[23..];\n",
    "\n",
    "    println!(\"abc_str = {}\", abc_str);\n",
    "    println!(\"def_str = {}\", def_str);\n",
    "    println!(\"xyz_str = {}\", xyz_str);\n",
    "}\n",
    "\n",
    "print_alphabet_parts();"
   ]
  },
  {
   "cell_type": "markdown",
   "metadata": {},
   "source": [
    "The same is possible for arrays."
   ]
  },
  {
   "cell_type": "code",
   "execution_count": null,
   "metadata": {},
   "outputs": [],
   "source": [
    "fn return_end_of_array(a: &[i32]) -> &[i32] {\n",
    "    &a[a.len()-3..]\n",
    "}\n",
    "    \n",
    "let a: [i32; 8] = [1, 2, 3, 4, 5, 6, 7, 8];\n",
    "\n",
    "println!(\"End of Array is: {:?}\", return_end_of_array(&a));"
   ]
  },
  {
   "cell_type": "markdown",
   "metadata": {},
   "source": [
    "## Exercises\n",
    "\n",
    "The following exercises may help to practice the obtained knowledge."
   ]
  },
  {
   "cell_type": "markdown",
   "metadata": {},
   "source": [
    "### String Comparison\n",
    "\n",
    "Write a function to count the occurrences of a given string in another given string."
   ]
  },
  {
   "cell_type": "code",
   "execution_count": null,
   "metadata": {},
   "outputs": [],
   "source": [
    "fn count_str_in_str ( // TODO ) {\n",
    "\n",
    "    // TODO\n",
    "\n",
    "}\n",
    "\n",
    "let long_str = String::from(\"abhdzweduihb3322baawueounm17oonoduabduauuuuwe23edun12\");\n",
    "let search_str = String::from(\"ab\");\n",
    "//let search_str = String::from(\"du\");\n",
    "\n",
    "let search_count = count_str_in_str( // TODO );\n",
    "\n",
    "println!(\"Pattern \\'{}\\' found {} times!\", search_str, search_count);"
   ]
  },
  {
   "cell_type": "markdown",
   "metadata": {},
   "source": [
    "### Vector Manipulation\n",
    "\n",
    "Write two functions:\n",
    "\n",
    "- Function 1 takes a vector of integers, calculates the doubled value of the last element, and appends it to this vector.\n",
    "- Function 2 takes a vector of integers, checks if the vector length is greater than 7, and, if it is, removes the first 3 elements of the vector. Further, it returns ``true`` or ``false``, if the vector was cut or not, respectively."
   ]
  },
  {
   "cell_type": "code",
   "execution_count": null,
   "metadata": {},
   "outputs": [],
   "source": [
    "fn double_and_append ( // TODO ) {\n",
    "    \n",
    "    // TODO\n",
    "    \n",
    "}\n",
    "\n",
    "fn check_and_remove ( // TODO ) {\n",
    "    \n",
    "    // TODO\n",
    "\n",
    "}\n",
    "\n",
    "// initialization of vector\n",
    "let mut int_vec: Vec<i32> = [1, 2, 4].to_vec();\n",
    "println!(\"--- INITIALIZATION ---\");\n",
    "println!(\"Vector State: {:?}\", int_vec);\n",
    "\n",
    "// loop through several iterations\n",
    "for i in 0..12 {\n",
    "    \n",
    "    // function calls\n",
    "    double_and_append( // TODO );\n",
    "    let shrink_bool = check_and_remove( // TODO );\n",
    "    \n",
    "    // print current state\n",
    "    println!(\"--- ITERATION {} ---\", i);\n",
    "    if shrink_bool == true {\n",
    "        println!(\"Vector Shrinked!\");\n",
    "    }\n",
    "    println!(\"Vector State: {:?}\", int_vec);\n",
    "};\n",
    "\n",
    "println!(\"--- THE END ---\");\n",
    "println!(\"Final Vector State: {:?}\", int_vec);     // should be [64, 512, 2048, 4096, 8192, 16384]"
   ]
  },
  {
   "cell_type": "code",
   "execution_count": null,
   "metadata": {},
   "outputs": [],
   "source": []
  }
 ],
 "metadata": {
  "kernelspec": {
   "display_name": "Rust",
   "language": "rust",
   "name": "rust"
  },
  "language_info": {
   "codemirror_mode": "rust",
   "file_extension": ".rs",
   "mimetype": "text/rust",
   "name": "Rust",
   "pygment_lexer": "rust",
   "version": ""
  }
 },
 "nbformat": 4,
 "nbformat_minor": 2
}
